{
 "cells": [
  {
   "cell_type": "markdown",
   "metadata": {},
   "source": [
    "# Red Wine Quality prediction "
   ]
  },
  {
   "cell_type": "code",
   "execution_count": 42,
   "metadata": {},
   "outputs": [
    {
     "name": "stdout",
     "output_type": "stream",
     "text": [
      "Collecting xgboost\n",
      "  Downloading https://files.pythonhosted.org/packages/5e/49/b95c037b717b4ceadc76b6e164603471225c27052d1611d5a2e832757945/xgboost-0.90-py2.py3-none-win_amd64.whl (18.3MB)\n",
      "Requirement already satisfied: scipy in g:\\anaconda\\lib\\site-packages (from xgboost) (1.2.1)\n",
      "Requirement already satisfied: numpy in g:\\anaconda\\lib\\site-packages (from xgboost) (1.16.2)\n",
      "Installing collected packages: xgboost\n",
      "Successfully installed xgboost-0.90\n"
     ]
    }
   ],
   "source": [
    "# !pip install imblearn\n",
    "# !pip install xgboost"
   ]
  },
  {
   "cell_type": "code",
   "execution_count": 40,
   "metadata": {},
   "outputs": [
    {
     "name": "stdout",
     "output_type": "stream",
     "text": [
      "0.21.3\n"
     ]
    }
   ],
   "source": [
    "import sklearn\n",
    "print(sklearn.__version__)"
   ]
  },
  {
   "cell_type": "code",
   "execution_count": 52,
   "metadata": {},
   "outputs": [],
   "source": [
    "# import necessary libraries\n",
    "import pandas as pd\n",
    "import numpy as np\n",
    "import seaborn as sns\n",
    "import matplotlib.pyplot as plt\n",
    "from imblearn.over_sampling import SMOTE\n",
    "from sklearn.metrics import confusion_matrix, classification_report, accuracy_score\n",
    "# from sklearn import svm, grid_search\n",
    "from sklearn.metrics import accuracy_score\n",
    "import xgboost as xgb\n",
    "from sklearn.model_selection import train_test_split, GridSearchCV, cross_val_score\n",
    "import torch\n",
    "import torch.nn as nn\n",
    "import torch.optim as optim\n",
    "from sklearn.preprocessing import scale\n",
    "from scipy.stats import pearsonr\n",
    "from tqdm import tqdm_notebook as tqdm"
   ]
  },
  {
   "cell_type": "code",
   "execution_count": 3,
   "metadata": {},
   "outputs": [],
   "source": [
    "data = pd.read_csv('winequality-red.csv')"
   ]
  },
  {
   "cell_type": "code",
   "execution_count": 4,
   "metadata": {},
   "outputs": [
    {
     "data": {
      "text/html": [
       "<div>\n",
       "<style scoped>\n",
       "    .dataframe tbody tr th:only-of-type {\n",
       "        vertical-align: middle;\n",
       "    }\n",
       "\n",
       "    .dataframe tbody tr th {\n",
       "        vertical-align: top;\n",
       "    }\n",
       "\n",
       "    .dataframe thead th {\n",
       "        text-align: right;\n",
       "    }\n",
       "</style>\n",
       "<table border=\"1\" class=\"dataframe\">\n",
       "  <thead>\n",
       "    <tr style=\"text-align: right;\">\n",
       "      <th></th>\n",
       "      <th>fixed acidity</th>\n",
       "      <th>volatile acidity</th>\n",
       "      <th>citric acid</th>\n",
       "      <th>residual sugar</th>\n",
       "      <th>chlorides</th>\n",
       "      <th>free sulfur dioxide</th>\n",
       "      <th>total sulfur dioxide</th>\n",
       "      <th>density</th>\n",
       "      <th>pH</th>\n",
       "      <th>sulphates</th>\n",
       "      <th>alcohol</th>\n",
       "      <th>quality</th>\n",
       "    </tr>\n",
       "  </thead>\n",
       "  <tbody>\n",
       "    <tr>\n",
       "      <th>0</th>\n",
       "      <td>7.4</td>\n",
       "      <td>0.70</td>\n",
       "      <td>0.00</td>\n",
       "      <td>1.9</td>\n",
       "      <td>0.076</td>\n",
       "      <td>11.0</td>\n",
       "      <td>34.0</td>\n",
       "      <td>0.9978</td>\n",
       "      <td>3.51</td>\n",
       "      <td>0.56</td>\n",
       "      <td>9.4</td>\n",
       "      <td>5</td>\n",
       "    </tr>\n",
       "    <tr>\n",
       "      <th>1</th>\n",
       "      <td>7.8</td>\n",
       "      <td>0.88</td>\n",
       "      <td>0.00</td>\n",
       "      <td>2.6</td>\n",
       "      <td>0.098</td>\n",
       "      <td>25.0</td>\n",
       "      <td>67.0</td>\n",
       "      <td>0.9968</td>\n",
       "      <td>3.20</td>\n",
       "      <td>0.68</td>\n",
       "      <td>9.8</td>\n",
       "      <td>5</td>\n",
       "    </tr>\n",
       "    <tr>\n",
       "      <th>2</th>\n",
       "      <td>7.8</td>\n",
       "      <td>0.76</td>\n",
       "      <td>0.04</td>\n",
       "      <td>2.3</td>\n",
       "      <td>0.092</td>\n",
       "      <td>15.0</td>\n",
       "      <td>54.0</td>\n",
       "      <td>0.9970</td>\n",
       "      <td>3.26</td>\n",
       "      <td>0.65</td>\n",
       "      <td>9.8</td>\n",
       "      <td>5</td>\n",
       "    </tr>\n",
       "    <tr>\n",
       "      <th>3</th>\n",
       "      <td>11.2</td>\n",
       "      <td>0.28</td>\n",
       "      <td>0.56</td>\n",
       "      <td>1.9</td>\n",
       "      <td>0.075</td>\n",
       "      <td>17.0</td>\n",
       "      <td>60.0</td>\n",
       "      <td>0.9980</td>\n",
       "      <td>3.16</td>\n",
       "      <td>0.58</td>\n",
       "      <td>9.8</td>\n",
       "      <td>6</td>\n",
       "    </tr>\n",
       "    <tr>\n",
       "      <th>4</th>\n",
       "      <td>7.4</td>\n",
       "      <td>0.70</td>\n",
       "      <td>0.00</td>\n",
       "      <td>1.9</td>\n",
       "      <td>0.076</td>\n",
       "      <td>11.0</td>\n",
       "      <td>34.0</td>\n",
       "      <td>0.9978</td>\n",
       "      <td>3.51</td>\n",
       "      <td>0.56</td>\n",
       "      <td>9.4</td>\n",
       "      <td>5</td>\n",
       "    </tr>\n",
       "  </tbody>\n",
       "</table>\n",
       "</div>"
      ],
      "text/plain": [
       "   fixed acidity  volatile acidity  citric acid  residual sugar  chlorides  \\\n",
       "0            7.4              0.70         0.00             1.9      0.076   \n",
       "1            7.8              0.88         0.00             2.6      0.098   \n",
       "2            7.8              0.76         0.04             2.3      0.092   \n",
       "3           11.2              0.28         0.56             1.9      0.075   \n",
       "4            7.4              0.70         0.00             1.9      0.076   \n",
       "\n",
       "   free sulfur dioxide  total sulfur dioxide  density    pH  sulphates  \\\n",
       "0                 11.0                  34.0   0.9978  3.51       0.56   \n",
       "1                 25.0                  67.0   0.9968  3.20       0.68   \n",
       "2                 15.0                  54.0   0.9970  3.26       0.65   \n",
       "3                 17.0                  60.0   0.9980  3.16       0.58   \n",
       "4                 11.0                  34.0   0.9978  3.51       0.56   \n",
       "\n",
       "   alcohol  quality  \n",
       "0      9.4        5  \n",
       "1      9.8        5  \n",
       "2      9.8        5  \n",
       "3      9.8        6  \n",
       "4      9.4        5  "
      ]
     },
     "execution_count": 4,
     "metadata": {},
     "output_type": "execute_result"
    }
   ],
   "source": [
    "data.head()"
   ]
  },
  {
   "cell_type": "code",
   "execution_count": 5,
   "metadata": {},
   "outputs": [
    {
     "name": "stdout",
     "output_type": "stream",
     "text": [
      "<class 'pandas.core.frame.DataFrame'>\n",
      "RangeIndex: 1599 entries, 0 to 1598\n",
      "Data columns (total 12 columns):\n",
      "fixed acidity           1599 non-null float64\n",
      "volatile acidity        1599 non-null float64\n",
      "citric acid             1599 non-null float64\n",
      "residual sugar          1599 non-null float64\n",
      "chlorides               1599 non-null float64\n",
      "free sulfur dioxide     1599 non-null float64\n",
      "total sulfur dioxide    1599 non-null float64\n",
      "density                 1599 non-null float64\n",
      "pH                      1599 non-null float64\n",
      "sulphates               1599 non-null float64\n",
      "alcohol                 1599 non-null float64\n",
      "quality                 1599 non-null int64\n",
      "dtypes: float64(11), int64(1)\n",
      "memory usage: 150.0 KB\n"
     ]
    }
   ],
   "source": [
    "data.info()"
   ]
  },
  {
   "cell_type": "markdown",
   "metadata": {},
   "source": [
    "#### we notice the data is clean without any Null values"
   ]
  },
  {
   "cell_type": "code",
   "execution_count": 6,
   "metadata": {},
   "outputs": [
    {
     "data": {
      "text/html": [
       "<div>\n",
       "<style scoped>\n",
       "    .dataframe tbody tr th:only-of-type {\n",
       "        vertical-align: middle;\n",
       "    }\n",
       "\n",
       "    .dataframe tbody tr th {\n",
       "        vertical-align: top;\n",
       "    }\n",
       "\n",
       "    .dataframe thead th {\n",
       "        text-align: right;\n",
       "    }\n",
       "</style>\n",
       "<table border=\"1\" class=\"dataframe\">\n",
       "  <thead>\n",
       "    <tr style=\"text-align: right;\">\n",
       "      <th></th>\n",
       "      <th>fixed acidity</th>\n",
       "      <th>volatile acidity</th>\n",
       "      <th>citric acid</th>\n",
       "      <th>residual sugar</th>\n",
       "      <th>chlorides</th>\n",
       "      <th>free sulfur dioxide</th>\n",
       "      <th>total sulfur dioxide</th>\n",
       "      <th>density</th>\n",
       "      <th>pH</th>\n",
       "      <th>sulphates</th>\n",
       "      <th>alcohol</th>\n",
       "      <th>quality</th>\n",
       "    </tr>\n",
       "  </thead>\n",
       "  <tbody>\n",
       "    <tr>\n",
       "      <th>count</th>\n",
       "      <td>1599.000000</td>\n",
       "      <td>1599.000000</td>\n",
       "      <td>1599.000000</td>\n",
       "      <td>1599.000000</td>\n",
       "      <td>1599.000000</td>\n",
       "      <td>1599.000000</td>\n",
       "      <td>1599.000000</td>\n",
       "      <td>1599.000000</td>\n",
       "      <td>1599.000000</td>\n",
       "      <td>1599.000000</td>\n",
       "      <td>1599.000000</td>\n",
       "      <td>1599.000000</td>\n",
       "    </tr>\n",
       "    <tr>\n",
       "      <th>mean</th>\n",
       "      <td>8.319637</td>\n",
       "      <td>0.527821</td>\n",
       "      <td>0.270976</td>\n",
       "      <td>2.538806</td>\n",
       "      <td>0.087467</td>\n",
       "      <td>15.874922</td>\n",
       "      <td>46.467792</td>\n",
       "      <td>0.996747</td>\n",
       "      <td>3.311113</td>\n",
       "      <td>0.658149</td>\n",
       "      <td>10.422983</td>\n",
       "      <td>5.636023</td>\n",
       "    </tr>\n",
       "    <tr>\n",
       "      <th>std</th>\n",
       "      <td>1.741096</td>\n",
       "      <td>0.179060</td>\n",
       "      <td>0.194801</td>\n",
       "      <td>1.409928</td>\n",
       "      <td>0.047065</td>\n",
       "      <td>10.460157</td>\n",
       "      <td>32.895324</td>\n",
       "      <td>0.001887</td>\n",
       "      <td>0.154386</td>\n",
       "      <td>0.169507</td>\n",
       "      <td>1.065668</td>\n",
       "      <td>0.807569</td>\n",
       "    </tr>\n",
       "    <tr>\n",
       "      <th>min</th>\n",
       "      <td>4.600000</td>\n",
       "      <td>0.120000</td>\n",
       "      <td>0.000000</td>\n",
       "      <td>0.900000</td>\n",
       "      <td>0.012000</td>\n",
       "      <td>1.000000</td>\n",
       "      <td>6.000000</td>\n",
       "      <td>0.990070</td>\n",
       "      <td>2.740000</td>\n",
       "      <td>0.330000</td>\n",
       "      <td>8.400000</td>\n",
       "      <td>3.000000</td>\n",
       "    </tr>\n",
       "    <tr>\n",
       "      <th>25%</th>\n",
       "      <td>7.100000</td>\n",
       "      <td>0.390000</td>\n",
       "      <td>0.090000</td>\n",
       "      <td>1.900000</td>\n",
       "      <td>0.070000</td>\n",
       "      <td>7.000000</td>\n",
       "      <td>22.000000</td>\n",
       "      <td>0.995600</td>\n",
       "      <td>3.210000</td>\n",
       "      <td>0.550000</td>\n",
       "      <td>9.500000</td>\n",
       "      <td>5.000000</td>\n",
       "    </tr>\n",
       "    <tr>\n",
       "      <th>50%</th>\n",
       "      <td>7.900000</td>\n",
       "      <td>0.520000</td>\n",
       "      <td>0.260000</td>\n",
       "      <td>2.200000</td>\n",
       "      <td>0.079000</td>\n",
       "      <td>14.000000</td>\n",
       "      <td>38.000000</td>\n",
       "      <td>0.996750</td>\n",
       "      <td>3.310000</td>\n",
       "      <td>0.620000</td>\n",
       "      <td>10.200000</td>\n",
       "      <td>6.000000</td>\n",
       "    </tr>\n",
       "    <tr>\n",
       "      <th>75%</th>\n",
       "      <td>9.200000</td>\n",
       "      <td>0.640000</td>\n",
       "      <td>0.420000</td>\n",
       "      <td>2.600000</td>\n",
       "      <td>0.090000</td>\n",
       "      <td>21.000000</td>\n",
       "      <td>62.000000</td>\n",
       "      <td>0.997835</td>\n",
       "      <td>3.400000</td>\n",
       "      <td>0.730000</td>\n",
       "      <td>11.100000</td>\n",
       "      <td>6.000000</td>\n",
       "    </tr>\n",
       "    <tr>\n",
       "      <th>max</th>\n",
       "      <td>15.900000</td>\n",
       "      <td>1.580000</td>\n",
       "      <td>1.000000</td>\n",
       "      <td>15.500000</td>\n",
       "      <td>0.611000</td>\n",
       "      <td>72.000000</td>\n",
       "      <td>289.000000</td>\n",
       "      <td>1.003690</td>\n",
       "      <td>4.010000</td>\n",
       "      <td>2.000000</td>\n",
       "      <td>14.900000</td>\n",
       "      <td>8.000000</td>\n",
       "    </tr>\n",
       "  </tbody>\n",
       "</table>\n",
       "</div>"
      ],
      "text/plain": [
       "       fixed acidity  volatile acidity  citric acid  residual sugar  \\\n",
       "count    1599.000000       1599.000000  1599.000000     1599.000000   \n",
       "mean        8.319637          0.527821     0.270976        2.538806   \n",
       "std         1.741096          0.179060     0.194801        1.409928   \n",
       "min         4.600000          0.120000     0.000000        0.900000   \n",
       "25%         7.100000          0.390000     0.090000        1.900000   \n",
       "50%         7.900000          0.520000     0.260000        2.200000   \n",
       "75%         9.200000          0.640000     0.420000        2.600000   \n",
       "max        15.900000          1.580000     1.000000       15.500000   \n",
       "\n",
       "         chlorides  free sulfur dioxide  total sulfur dioxide      density  \\\n",
       "count  1599.000000          1599.000000           1599.000000  1599.000000   \n",
       "mean      0.087467            15.874922             46.467792     0.996747   \n",
       "std       0.047065            10.460157             32.895324     0.001887   \n",
       "min       0.012000             1.000000              6.000000     0.990070   \n",
       "25%       0.070000             7.000000             22.000000     0.995600   \n",
       "50%       0.079000            14.000000             38.000000     0.996750   \n",
       "75%       0.090000            21.000000             62.000000     0.997835   \n",
       "max       0.611000            72.000000            289.000000     1.003690   \n",
       "\n",
       "                pH    sulphates      alcohol      quality  \n",
       "count  1599.000000  1599.000000  1599.000000  1599.000000  \n",
       "mean      3.311113     0.658149    10.422983     5.636023  \n",
       "std       0.154386     0.169507     1.065668     0.807569  \n",
       "min       2.740000     0.330000     8.400000     3.000000  \n",
       "25%       3.210000     0.550000     9.500000     5.000000  \n",
       "50%       3.310000     0.620000    10.200000     6.000000  \n",
       "75%       3.400000     0.730000    11.100000     6.000000  \n",
       "max       4.010000     2.000000    14.900000     8.000000  "
      ]
     },
     "execution_count": 6,
     "metadata": {},
     "output_type": "execute_result"
    }
   ],
   "source": [
    "data.describe()"
   ]
  },
  {
   "cell_type": "code",
   "execution_count": 9,
   "metadata": {},
   "outputs": [
    {
     "data": {
      "text/html": [
       "<style  type=\"text/css\" >\n",
       "    #T_eda2a2e8_c3e7_11e9_8f97_802bf9bde18arow0_col0 {\n",
       "            background-color:  #b40426;\n",
       "            color:  #f1f1f1;\n",
       "        }    #T_eda2a2e8_c3e7_11e9_8f97_802bf9bde18arow0_col1 {\n",
       "            background-color:  #779af7;\n",
       "            color:  #000000;\n",
       "        }    #T_eda2a2e8_c3e7_11e9_8f97_802bf9bde18arow0_col2 {\n",
       "            background-color:  #f08a6c;\n",
       "            color:  #000000;\n",
       "        }    #T_eda2a2e8_c3e7_11e9_8f97_802bf9bde18arow0_col3 {\n",
       "            background-color:  #7699f6;\n",
       "            color:  #000000;\n",
       "        }    #T_eda2a2e8_c3e7_11e9_8f97_802bf9bde18arow0_col4 {\n",
       "            background-color:  #98b9ff;\n",
       "            color:  #000000;\n",
       "        }    #T_eda2a2e8_c3e7_11e9_8f97_802bf9bde18arow0_col5 {\n",
       "            background-color:  #3b4cc0;\n",
       "            color:  #f1f1f1;\n",
       "        }    #T_eda2a2e8_c3e7_11e9_8f97_802bf9bde18arow0_col6 {\n",
       "            background-color:  #516ddb;\n",
       "            color:  #000000;\n",
       "        }    #T_eda2a2e8_c3e7_11e9_8f97_802bf9bde18arow0_col7 {\n",
       "            background-color:  #f18d6f;\n",
       "            color:  #000000;\n",
       "        }    #T_eda2a2e8_c3e7_11e9_8f97_802bf9bde18arow0_col8 {\n",
       "            background-color:  #3b4cc0;\n",
       "            color:  #f1f1f1;\n",
       "        }    #T_eda2a2e8_c3e7_11e9_8f97_802bf9bde18arow0_col9 {\n",
       "            background-color:  #b1cbfc;\n",
       "            color:  #000000;\n",
       "        }    #T_eda2a2e8_c3e7_11e9_8f97_802bf9bde18arow0_col10 {\n",
       "            background-color:  #9bbcff;\n",
       "            color:  #000000;\n",
       "        }    #T_eda2a2e8_c3e7_11e9_8f97_802bf9bde18arow0_col11 {\n",
       "            background-color:  #b6cefa;\n",
       "            color:  #000000;\n",
       "        }    #T_eda2a2e8_c3e7_11e9_8f97_802bf9bde18arow1_col0 {\n",
       "            background-color:  #8db0fe;\n",
       "            color:  #000000;\n",
       "        }    #T_eda2a2e8_c3e7_11e9_8f97_802bf9bde18arow1_col1 {\n",
       "            background-color:  #b40426;\n",
       "            color:  #f1f1f1;\n",
       "        }    #T_eda2a2e8_c3e7_11e9_8f97_802bf9bde18arow1_col2 {\n",
       "            background-color:  #3b4cc0;\n",
       "            color:  #f1f1f1;\n",
       "        }    #T_eda2a2e8_c3e7_11e9_8f97_802bf9bde18arow1_col3 {\n",
       "            background-color:  #536edd;\n",
       "            color:  #000000;\n",
       "        }    #T_eda2a2e8_c3e7_11e9_8f97_802bf9bde18arow1_col4 {\n",
       "            background-color:  #90b2fe;\n",
       "            color:  #000000;\n",
       "        }    #T_eda2a2e8_c3e7_11e9_8f97_802bf9bde18arow1_col5 {\n",
       "            background-color:  #6180e9;\n",
       "            color:  #000000;\n",
       "        }    #T_eda2a2e8_c3e7_11e9_8f97_802bf9bde18arow1_col6 {\n",
       "            background-color:  #86a9fc;\n",
       "            color:  #000000;\n",
       "        }    #T_eda2a2e8_c3e7_11e9_8f97_802bf9bde18arow1_col7 {\n",
       "            background-color:  #aec9fc;\n",
       "            color:  #000000;\n",
       "        }    #T_eda2a2e8_c3e7_11e9_8f97_802bf9bde18arow1_col8 {\n",
       "            background-color:  #e8d6cc;\n",
       "            color:  #000000;\n",
       "        }    #T_eda2a2e8_c3e7_11e9_8f97_802bf9bde18arow1_col9 {\n",
       "            background-color:  #3b4cc0;\n",
       "            color:  #f1f1f1;\n",
       "        }    #T_eda2a2e8_c3e7_11e9_8f97_802bf9bde18arow1_col10 {\n",
       "            background-color:  #7a9df8;\n",
       "            color:  #000000;\n",
       "        }    #T_eda2a2e8_c3e7_11e9_8f97_802bf9bde18arow1_col11 {\n",
       "            background-color:  #3b4cc0;\n",
       "            color:  #f1f1f1;\n",
       "        }    #T_eda2a2e8_c3e7_11e9_8f97_802bf9bde18arow2_col0 {\n",
       "            background-color:  #ec8165;\n",
       "            color:  #000000;\n",
       "        }    #T_eda2a2e8_c3e7_11e9_8f97_802bf9bde18arow2_col1 {\n",
       "            background-color:  #3b4cc0;\n",
       "            color:  #f1f1f1;\n",
       "        }    #T_eda2a2e8_c3e7_11e9_8f97_802bf9bde18arow2_col2 {\n",
       "            background-color:  #b40426;\n",
       "            color:  #f1f1f1;\n",
       "        }    #T_eda2a2e8_c3e7_11e9_8f97_802bf9bde18arow2_col3 {\n",
       "            background-color:  #80a3fa;\n",
       "            color:  #000000;\n",
       "        }    #T_eda2a2e8_c3e7_11e9_8f97_802bf9bde18arow2_col4 {\n",
       "            background-color:  #b6cefa;\n",
       "            color:  #000000;\n",
       "        }    #T_eda2a2e8_c3e7_11e9_8f97_802bf9bde18arow2_col5 {\n",
       "            background-color:  #536edd;\n",
       "            color:  #000000;\n",
       "        }    #T_eda2a2e8_c3e7_11e9_8f97_802bf9bde18arow2_col6 {\n",
       "            background-color:  #7b9ff9;\n",
       "            color:  #000000;\n",
       "        }    #T_eda2a2e8_c3e7_11e9_8f97_802bf9bde18arow2_col7 {\n",
       "            background-color:  #eed0c0;\n",
       "            color:  #000000;\n",
       "        }    #T_eda2a2e8_c3e7_11e9_8f97_802bf9bde18arow2_col8 {\n",
       "            background-color:  #5470de;\n",
       "            color:  #000000;\n",
       "        }    #T_eda2a2e8_c3e7_11e9_8f97_802bf9bde18arow2_col9 {\n",
       "            background-color:  #d1dae9;\n",
       "            color:  #000000;\n",
       "        }    #T_eda2a2e8_c3e7_11e9_8f97_802bf9bde18arow2_col10 {\n",
       "            background-color:  #c1d4f4;\n",
       "            color:  #000000;\n",
       "        }    #T_eda2a2e8_c3e7_11e9_8f97_802bf9bde18arow2_col11 {\n",
       "            background-color:  #cdd9ec;\n",
       "            color:  #000000;\n",
       "        }    #T_eda2a2e8_c3e7_11e9_8f97_802bf9bde18arow3_col0 {\n",
       "            background-color:  #d6dce4;\n",
       "            color:  #000000;\n",
       "        }    #T_eda2a2e8_c3e7_11e9_8f97_802bf9bde18arow3_col1 {\n",
       "            background-color:  #b2ccfb;\n",
       "            color:  #000000;\n",
       "        }    #T_eda2a2e8_c3e7_11e9_8f97_802bf9bde18arow3_col2 {\n",
       "            background-color:  #cedaeb;\n",
       "            color:  #000000;\n",
       "        }    #T_eda2a2e8_c3e7_11e9_8f97_802bf9bde18arow3_col3 {\n",
       "            background-color:  #b40426;\n",
       "            color:  #f1f1f1;\n",
       "        }    #T_eda2a2e8_c3e7_11e9_8f97_802bf9bde18arow3_col4 {\n",
       "            background-color:  #8db0fe;\n",
       "            color:  #000000;\n",
       "        }    #T_eda2a2e8_c3e7_11e9_8f97_802bf9bde18arow3_col5 {\n",
       "            background-color:  #9dbdff;\n",
       "            color:  #000000;\n",
       "        }    #T_eda2a2e8_c3e7_11e9_8f97_802bf9bde18arow3_col6 {\n",
       "            background-color:  #abc8fd;\n",
       "            color:  #000000;\n",
       "        }    #T_eda2a2e8_c3e7_11e9_8f97_802bf9bde18arow3_col7 {\n",
       "            background-color:  #edd2c3;\n",
       "            color:  #000000;\n",
       "        }    #T_eda2a2e8_c3e7_11e9_8f97_802bf9bde18arow3_col8 {\n",
       "            background-color:  #b1cbfc;\n",
       "            color:  #000000;\n",
       "        }    #T_eda2a2e8_c3e7_11e9_8f97_802bf9bde18arow3_col9 {\n",
       "            background-color:  #80a3fa;\n",
       "            color:  #000000;\n",
       "        }    #T_eda2a2e8_c3e7_11e9_8f97_802bf9bde18arow3_col10 {\n",
       "            background-color:  #b3cdfb;\n",
       "            color:  #000000;\n",
       "        }    #T_eda2a2e8_c3e7_11e9_8f97_802bf9bde18arow3_col11 {\n",
       "            background-color:  #9bbcff;\n",
       "            color:  #000000;\n",
       "        }    #T_eda2a2e8_c3e7_11e9_8f97_802bf9bde18arow4_col0 {\n",
       "            background-color:  #d3dbe7;\n",
       "            color:  #000000;\n",
       "        }    #T_eda2a2e8_c3e7_11e9_8f97_802bf9bde18arow4_col1 {\n",
       "            background-color:  #bfd3f6;\n",
       "            color:  #000000;\n",
       "        }    #T_eda2a2e8_c3e7_11e9_8f97_802bf9bde18arow4_col2 {\n",
       "            background-color:  #d9dce1;\n",
       "            color:  #000000;\n",
       "        }    #T_eda2a2e8_c3e7_11e9_8f97_802bf9bde18arow4_col3 {\n",
       "            background-color:  #6384eb;\n",
       "            color:  #000000;\n",
       "        }    #T_eda2a2e8_c3e7_11e9_8f97_802bf9bde18arow4_col4 {\n",
       "            background-color:  #b40426;\n",
       "            color:  #f1f1f1;\n",
       "        }    #T_eda2a2e8_c3e7_11e9_8f97_802bf9bde18arow4_col5 {\n",
       "            background-color:  #6687ed;\n",
       "            color:  #000000;\n",
       "        }    #T_eda2a2e8_c3e7_11e9_8f97_802bf9bde18arow4_col6 {\n",
       "            background-color:  #7ea1fa;\n",
       "            color:  #000000;\n",
       "        }    #T_eda2a2e8_c3e7_11e9_8f97_802bf9bde18arow4_col7 {\n",
       "            background-color:  #d4dbe6;\n",
       "            color:  #000000;\n",
       "        }    #T_eda2a2e8_c3e7_11e9_8f97_802bf9bde18arow4_col8 {\n",
       "            background-color:  #8caffe;\n",
       "            color:  #000000;\n",
       "        }    #T_eda2a2e8_c3e7_11e9_8f97_802bf9bde18arow4_col9 {\n",
       "            background-color:  #dddcdc;\n",
       "            color:  #000000;\n",
       "        }    #T_eda2a2e8_c3e7_11e9_8f97_802bf9bde18arow4_col10 {\n",
       "            background-color:  #7699f6;\n",
       "            color:  #000000;\n",
       "        }    #T_eda2a2e8_c3e7_11e9_8f97_802bf9bde18arow4_col11 {\n",
       "            background-color:  #779af7;\n",
       "            color:  #000000;\n",
       "        }    #T_eda2a2e8_c3e7_11e9_8f97_802bf9bde18arow5_col0 {\n",
       "            background-color:  #a3c2fe;\n",
       "            color:  #000000;\n",
       "        }    #T_eda2a2e8_c3e7_11e9_8f97_802bf9bde18arow5_col1 {\n",
       "            background-color:  #afcafc;\n",
       "            color:  #000000;\n",
       "        }    #T_eda2a2e8_c3e7_11e9_8f97_802bf9bde18arow5_col2 {\n",
       "            background-color:  #a5c3fe;\n",
       "            color:  #000000;\n",
       "        }    #T_eda2a2e8_c3e7_11e9_8f97_802bf9bde18arow5_col3 {\n",
       "            background-color:  #8db0fe;\n",
       "            color:  #000000;\n",
       "        }    #T_eda2a2e8_c3e7_11e9_8f97_802bf9bde18arow5_col4 {\n",
       "            background-color:  #80a3fa;\n",
       "            color:  #000000;\n",
       "        }    #T_eda2a2e8_c3e7_11e9_8f97_802bf9bde18arow5_col5 {\n",
       "            background-color:  #b40426;\n",
       "            color:  #f1f1f1;\n",
       "        }    #T_eda2a2e8_c3e7_11e9_8f97_802bf9bde18arow5_col6 {\n",
       "            background-color:  #f6a385;\n",
       "            color:  #000000;\n",
       "        }    #T_eda2a2e8_c3e7_11e9_8f97_802bf9bde18arow5_col7 {\n",
       "            background-color:  #a5c3fe;\n",
       "            color:  #000000;\n",
       "        }    #T_eda2a2e8_c3e7_11e9_8f97_802bf9bde18arow5_col8 {\n",
       "            background-color:  #cedaeb;\n",
       "            color:  #000000;\n",
       "        }    #T_eda2a2e8_c3e7_11e9_8f97_802bf9bde18arow5_col9 {\n",
       "            background-color:  #8caffe;\n",
       "            color:  #000000;\n",
       "        }    #T_eda2a2e8_c3e7_11e9_8f97_802bf9bde18arow5_col10 {\n",
       "            background-color:  #9abbff;\n",
       "            color:  #000000;\n",
       "        }    #T_eda2a2e8_c3e7_11e9_8f97_802bf9bde18arow5_col11 {\n",
       "            background-color:  #8badfd;\n",
       "            color:  #000000;\n",
       "        }    #T_eda2a2e8_c3e7_11e9_8f97_802bf9bde18arow6_col0 {\n",
       "            background-color:  #abc8fd;\n",
       "            color:  #000000;\n",
       "        }    #T_eda2a2e8_c3e7_11e9_8f97_802bf9bde18arow6_col1 {\n",
       "            background-color:  #c1d4f4;\n",
       "            color:  #000000;\n",
       "        }    #T_eda2a2e8_c3e7_11e9_8f97_802bf9bde18arow6_col2 {\n",
       "            background-color:  #b9d0f9;\n",
       "            color:  #000000;\n",
       "        }    #T_eda2a2e8_c3e7_11e9_8f97_802bf9bde18arow6_col3 {\n",
       "            background-color:  #93b5fe;\n",
       "            color:  #000000;\n",
       "        }    #T_eda2a2e8_c3e7_11e9_8f97_802bf9bde18arow6_col4 {\n",
       "            background-color:  #8caffe;\n",
       "            color:  #000000;\n",
       "        }    #T_eda2a2e8_c3e7_11e9_8f97_802bf9bde18arow6_col5 {\n",
       "            background-color:  #f7a889;\n",
       "            color:  #000000;\n",
       "        }    #T_eda2a2e8_c3e7_11e9_8f97_802bf9bde18arow6_col6 {\n",
       "            background-color:  #b40426;\n",
       "            color:  #f1f1f1;\n",
       "        }    #T_eda2a2e8_c3e7_11e9_8f97_802bf9bde18arow6_col7 {\n",
       "            background-color:  #bad0f8;\n",
       "            color:  #000000;\n",
       "        }    #T_eda2a2e8_c3e7_11e9_8f97_802bf9bde18arow6_col8 {\n",
       "            background-color:  #b5cdfa;\n",
       "            color:  #000000;\n",
       "        }    #T_eda2a2e8_c3e7_11e9_8f97_802bf9bde18arow6_col9 {\n",
       "            background-color:  #89acfd;\n",
       "            color:  #000000;\n",
       "        }    #T_eda2a2e8_c3e7_11e9_8f97_802bf9bde18arow6_col10 {\n",
       "            background-color:  #799cf8;\n",
       "            color:  #000000;\n",
       "        }    #T_eda2a2e8_c3e7_11e9_8f97_802bf9bde18arow6_col11 {\n",
       "            background-color:  #688aef;\n",
       "            color:  #000000;\n",
       "        }    #T_eda2a2e8_c3e7_11e9_8f97_802bf9bde18arow7_col0 {\n",
       "            background-color:  #ed8366;\n",
       "            color:  #000000;\n",
       "        }    #T_eda2a2e8_c3e7_11e9_8f97_802bf9bde18arow7_col1 {\n",
       "            background-color:  #b6cefa;\n",
       "            color:  #000000;\n",
       "        }    #T_eda2a2e8_c3e7_11e9_8f97_802bf9bde18arow7_col2 {\n",
       "            background-color:  #f1cdba;\n",
       "            color:  #000000;\n",
       "        }    #T_eda2a2e8_c3e7_11e9_8f97_802bf9bde18arow7_col3 {\n",
       "            background-color:  #c1d4f4;\n",
       "            color:  #000000;\n",
       "        }    #T_eda2a2e8_c3e7_11e9_8f97_802bf9bde18arow7_col4 {\n",
       "            background-color:  #b6cefa;\n",
       "            color:  #000000;\n",
       "        }    #T_eda2a2e8_c3e7_11e9_8f97_802bf9bde18arow7_col5 {\n",
       "            background-color:  #5e7de7;\n",
       "            color:  #000000;\n",
       "        }    #T_eda2a2e8_c3e7_11e9_8f97_802bf9bde18arow7_col6 {\n",
       "            background-color:  #85a8fc;\n",
       "            color:  #000000;\n",
       "        }    #T_eda2a2e8_c3e7_11e9_8f97_802bf9bde18arow7_col7 {\n",
       "            background-color:  #b40426;\n",
       "            color:  #f1f1f1;\n",
       "        }    #T_eda2a2e8_c3e7_11e9_8f97_802bf9bde18arow7_col8 {\n",
       "            background-color:  #7b9ff9;\n",
       "            color:  #000000;\n",
       "        }    #T_eda2a2e8_c3e7_11e9_8f97_802bf9bde18arow7_col9 {\n",
       "            background-color:  #a7c5fe;\n",
       "            color:  #000000;\n",
       "        }    #T_eda2a2e8_c3e7_11e9_8f97_802bf9bde18arow7_col10 {\n",
       "            background-color:  #3b4cc0;\n",
       "            color:  #f1f1f1;\n",
       "        }    #T_eda2a2e8_c3e7_11e9_8f97_802bf9bde18arow7_col11 {\n",
       "            background-color:  #6b8df0;\n",
       "            color:  #000000;\n",
       "        }    #T_eda2a2e8_c3e7_11e9_8f97_802bf9bde18arow8_col0 {\n",
       "            background-color:  #3b4cc0;\n",
       "            color:  #f1f1f1;\n",
       "        }    #T_eda2a2e8_c3e7_11e9_8f97_802bf9bde18arow8_col1 {\n",
       "            background-color:  #dedcdb;\n",
       "            color:  #000000;\n",
       "        }    #T_eda2a2e8_c3e7_11e9_8f97_802bf9bde18arow8_col2 {\n",
       "            background-color:  #3c4ec2;\n",
       "            color:  #f1f1f1;\n",
       "        }    #T_eda2a2e8_c3e7_11e9_8f97_802bf9bde18arow8_col3 {\n",
       "            background-color:  #3b4cc0;\n",
       "            color:  #f1f1f1;\n",
       "        }    #T_eda2a2e8_c3e7_11e9_8f97_802bf9bde18arow8_col4 {\n",
       "            background-color:  #3b4cc0;\n",
       "            color:  #f1f1f1;\n",
       "        }    #T_eda2a2e8_c3e7_11e9_8f97_802bf9bde18arow8_col5 {\n",
       "            background-color:  #799cf8;\n",
       "            color:  #000000;\n",
       "        }    #T_eda2a2e8_c3e7_11e9_8f97_802bf9bde18arow8_col6 {\n",
       "            background-color:  #5e7de7;\n",
       "            color:  #000000;\n",
       "        }    #T_eda2a2e8_c3e7_11e9_8f97_802bf9bde18arow8_col7 {\n",
       "            background-color:  #5a78e4;\n",
       "            color:  #000000;\n",
       "        }    #T_eda2a2e8_c3e7_11e9_8f97_802bf9bde18arow8_col8 {\n",
       "            background-color:  #b40426;\n",
       "            color:  #f1f1f1;\n",
       "        }    #T_eda2a2e8_c3e7_11e9_8f97_802bf9bde18arow8_col9 {\n",
       "            background-color:  #4a63d3;\n",
       "            color:  #f1f1f1;\n",
       "        }    #T_eda2a2e8_c3e7_11e9_8f97_802bf9bde18arow8_col10 {\n",
       "            background-color:  #d5dbe5;\n",
       "            color:  #000000;\n",
       "        }    #T_eda2a2e8_c3e7_11e9_8f97_802bf9bde18arow8_col11 {\n",
       "            background-color:  #89acfd;\n",
       "            color:  #000000;\n",
       "        }    #T_eda2a2e8_c3e7_11e9_8f97_802bf9bde18arow9_col0 {\n",
       "            background-color:  #e0dbd8;\n",
       "            color:  #000000;\n",
       "        }    #T_eda2a2e8_c3e7_11e9_8f97_802bf9bde18arow9_col1 {\n",
       "            background-color:  #779af7;\n",
       "            color:  #000000;\n",
       "        }    #T_eda2a2e8_c3e7_11e9_8f97_802bf9bde18arow9_col2 {\n",
       "            background-color:  #ead4c8;\n",
       "            color:  #000000;\n",
       "        }    #T_eda2a2e8_c3e7_11e9_8f97_802bf9bde18arow9_col3 {\n",
       "            background-color:  #5470de;\n",
       "            color:  #000000;\n",
       "        }    #T_eda2a2e8_c3e7_11e9_8f97_802bf9bde18arow9_col4 {\n",
       "            background-color:  #dddcdc;\n",
       "            color:  #000000;\n",
       "        }    #T_eda2a2e8_c3e7_11e9_8f97_802bf9bde18arow9_col5 {\n",
       "            background-color:  #7396f5;\n",
       "            color:  #000000;\n",
       "        }    #T_eda2a2e8_c3e7_11e9_8f97_802bf9bde18arow9_col6 {\n",
       "            background-color:  #7da0f9;\n",
       "            color:  #000000;\n",
       "        }    #T_eda2a2e8_c3e7_11e9_8f97_802bf9bde18arow9_col7 {\n",
       "            background-color:  #cad8ef;\n",
       "            color:  #000000;\n",
       "        }    #T_eda2a2e8_c3e7_11e9_8f97_802bf9bde18arow9_col8 {\n",
       "            background-color:  #9abbff;\n",
       "            color:  #000000;\n",
       "        }    #T_eda2a2e8_c3e7_11e9_8f97_802bf9bde18arow9_col9 {\n",
       "            background-color:  #b40426;\n",
       "            color:  #f1f1f1;\n",
       "        }    #T_eda2a2e8_c3e7_11e9_8f97_802bf9bde18arow9_col10 {\n",
       "            background-color:  #bed2f6;\n",
       "            color:  #000000;\n",
       "        }    #T_eda2a2e8_c3e7_11e9_8f97_802bf9bde18arow9_col11 {\n",
       "            background-color:  #d3dbe7;\n",
       "            color:  #000000;\n",
       "        }    #T_eda2a2e8_c3e7_11e9_8f97_802bf9bde18arow10_col0 {\n",
       "            background-color:  #b6cefa;\n",
       "            color:  #000000;\n",
       "        }    #T_eda2a2e8_c3e7_11e9_8f97_802bf9bde18arow10_col1 {\n",
       "            background-color:  #84a7fc;\n",
       "            color:  #000000;\n",
       "        }    #T_eda2a2e8_c3e7_11e9_8f97_802bf9bde18arow10_col2 {\n",
       "            background-color:  #c9d7f0;\n",
       "            color:  #000000;\n",
       "        }    #T_eda2a2e8_c3e7_11e9_8f97_802bf9bde18arow10_col3 {\n",
       "            background-color:  #5f7fe8;\n",
       "            color:  #000000;\n",
       "        }    #T_eda2a2e8_c3e7_11e9_8f97_802bf9bde18arow10_col4 {\n",
       "            background-color:  #445acc;\n",
       "            color:  #f1f1f1;\n",
       "        }    #T_eda2a2e8_c3e7_11e9_8f97_802bf9bde18arow10_col5 {\n",
       "            background-color:  #506bda;\n",
       "            color:  #000000;\n",
       "        }    #T_eda2a2e8_c3e7_11e9_8f97_802bf9bde18arow10_col6 {\n",
       "            background-color:  #3b4cc0;\n",
       "            color:  #f1f1f1;\n",
       "        }    #T_eda2a2e8_c3e7_11e9_8f97_802bf9bde18arow10_col7 {\n",
       "            background-color:  #3b4cc0;\n",
       "            color:  #f1f1f1;\n",
       "        }    #T_eda2a2e8_c3e7_11e9_8f97_802bf9bde18arow10_col8 {\n",
       "            background-color:  #e4d9d2;\n",
       "            color:  #000000;\n",
       "        }    #T_eda2a2e8_c3e7_11e9_8f97_802bf9bde18arow10_col9 {\n",
       "            background-color:  #97b8ff;\n",
       "            color:  #000000;\n",
       "        }    #T_eda2a2e8_c3e7_11e9_8f97_802bf9bde18arow10_col10 {\n",
       "            background-color:  #b40426;\n",
       "            color:  #f1f1f1;\n",
       "        }    #T_eda2a2e8_c3e7_11e9_8f97_802bf9bde18arow10_col11 {\n",
       "            background-color:  #f4c5ad;\n",
       "            color:  #000000;\n",
       "        }    #T_eda2a2e8_c3e7_11e9_8f97_802bf9bde18arow11_col0 {\n",
       "            background-color:  #d7dce3;\n",
       "            color:  #000000;\n",
       "        }    #T_eda2a2e8_c3e7_11e9_8f97_802bf9bde18arow11_col1 {\n",
       "            background-color:  #5a78e4;\n",
       "            color:  #000000;\n",
       "        }    #T_eda2a2e8_c3e7_11e9_8f97_802bf9bde18arow11_col2 {\n",
       "            background-color:  #dddcdc;\n",
       "            color:  #000000;\n",
       "        }    #T_eda2a2e8_c3e7_11e9_8f97_802bf9bde18arow11_col3 {\n",
       "            background-color:  #5673e0;\n",
       "            color:  #000000;\n",
       "        }    #T_eda2a2e8_c3e7_11e9_8f97_802bf9bde18arow11_col4 {\n",
       "            background-color:  #5b7ae5;\n",
       "            color:  #000000;\n",
       "        }    #T_eda2a2e8_c3e7_11e9_8f97_802bf9bde18arow11_col5 {\n",
       "            background-color:  #5572df;\n",
       "            color:  #000000;\n",
       "        }    #T_eda2a2e8_c3e7_11e9_8f97_802bf9bde18arow11_col6 {\n",
       "            background-color:  #3f53c6;\n",
       "            color:  #f1f1f1;\n",
       "        }    #T_eda2a2e8_c3e7_11e9_8f97_802bf9bde18arow11_col7 {\n",
       "            background-color:  #80a3fa;\n",
       "            color:  #000000;\n",
       "        }    #T_eda2a2e8_c3e7_11e9_8f97_802bf9bde18arow11_col8 {\n",
       "            background-color:  #b7cff9;\n",
       "            color:  #000000;\n",
       "        }    #T_eda2a2e8_c3e7_11e9_8f97_802bf9bde18arow11_col9 {\n",
       "            background-color:  #c3d5f4;\n",
       "            color:  #000000;\n",
       "        }    #T_eda2a2e8_c3e7_11e9_8f97_802bf9bde18arow11_col10 {\n",
       "            background-color:  #f6bda2;\n",
       "            color:  #000000;\n",
       "        }    #T_eda2a2e8_c3e7_11e9_8f97_802bf9bde18arow11_col11 {\n",
       "            background-color:  #b40426;\n",
       "            color:  #f1f1f1;\n",
       "        }</style><table id=\"T_eda2a2e8_c3e7_11e9_8f97_802bf9bde18a\" ><thead>    <tr>        <th class=\"blank level0\" ></th>        <th class=\"col_heading level0 col0\" >fixed acidity</th>        <th class=\"col_heading level0 col1\" >volatile acidity</th>        <th class=\"col_heading level0 col2\" >citric acid</th>        <th class=\"col_heading level0 col3\" >residual sugar</th>        <th class=\"col_heading level0 col4\" >chlorides</th>        <th class=\"col_heading level0 col5\" >free sulfur dioxide</th>        <th class=\"col_heading level0 col6\" >total sulfur dioxide</th>        <th class=\"col_heading level0 col7\" >density</th>        <th class=\"col_heading level0 col8\" >pH</th>        <th class=\"col_heading level0 col9\" >sulphates</th>        <th class=\"col_heading level0 col10\" >alcohol</th>        <th class=\"col_heading level0 col11\" >quality</th>    </tr></thead><tbody>\n",
       "                <tr>\n",
       "                        <th id=\"T_eda2a2e8_c3e7_11e9_8f97_802bf9bde18alevel0_row0\" class=\"row_heading level0 row0\" >fixed acidity</th>\n",
       "                        <td id=\"T_eda2a2e8_c3e7_11e9_8f97_802bf9bde18arow0_col0\" class=\"data row0 col0\" >1</td>\n",
       "                        <td id=\"T_eda2a2e8_c3e7_11e9_8f97_802bf9bde18arow0_col1\" class=\"data row0 col1\" >-0.256131</td>\n",
       "                        <td id=\"T_eda2a2e8_c3e7_11e9_8f97_802bf9bde18arow0_col2\" class=\"data row0 col2\" >0.671703</td>\n",
       "                        <td id=\"T_eda2a2e8_c3e7_11e9_8f97_802bf9bde18arow0_col3\" class=\"data row0 col3\" >0.114777</td>\n",
       "                        <td id=\"T_eda2a2e8_c3e7_11e9_8f97_802bf9bde18arow0_col4\" class=\"data row0 col4\" >0.0937052</td>\n",
       "                        <td id=\"T_eda2a2e8_c3e7_11e9_8f97_802bf9bde18arow0_col5\" class=\"data row0 col5\" >-0.153794</td>\n",
       "                        <td id=\"T_eda2a2e8_c3e7_11e9_8f97_802bf9bde18arow0_col6\" class=\"data row0 col6\" >-0.113181</td>\n",
       "                        <td id=\"T_eda2a2e8_c3e7_11e9_8f97_802bf9bde18arow0_col7\" class=\"data row0 col7\" >0.668047</td>\n",
       "                        <td id=\"T_eda2a2e8_c3e7_11e9_8f97_802bf9bde18arow0_col8\" class=\"data row0 col8\" >-0.682978</td>\n",
       "                        <td id=\"T_eda2a2e8_c3e7_11e9_8f97_802bf9bde18arow0_col9\" class=\"data row0 col9\" >0.183006</td>\n",
       "                        <td id=\"T_eda2a2e8_c3e7_11e9_8f97_802bf9bde18arow0_col10\" class=\"data row0 col10\" >-0.0616683</td>\n",
       "                        <td id=\"T_eda2a2e8_c3e7_11e9_8f97_802bf9bde18arow0_col11\" class=\"data row0 col11\" >0.124052</td>\n",
       "            </tr>\n",
       "            <tr>\n",
       "                        <th id=\"T_eda2a2e8_c3e7_11e9_8f97_802bf9bde18alevel0_row1\" class=\"row_heading level0 row1\" >volatile acidity</th>\n",
       "                        <td id=\"T_eda2a2e8_c3e7_11e9_8f97_802bf9bde18arow1_col0\" class=\"data row1 col0\" >-0.256131</td>\n",
       "                        <td id=\"T_eda2a2e8_c3e7_11e9_8f97_802bf9bde18arow1_col1\" class=\"data row1 col1\" >1</td>\n",
       "                        <td id=\"T_eda2a2e8_c3e7_11e9_8f97_802bf9bde18arow1_col2\" class=\"data row1 col2\" >-0.552496</td>\n",
       "                        <td id=\"T_eda2a2e8_c3e7_11e9_8f97_802bf9bde18arow1_col3\" class=\"data row1 col3\" >0.00191788</td>\n",
       "                        <td id=\"T_eda2a2e8_c3e7_11e9_8f97_802bf9bde18arow1_col4\" class=\"data row1 col4\" >0.0612978</td>\n",
       "                        <td id=\"T_eda2a2e8_c3e7_11e9_8f97_802bf9bde18arow1_col5\" class=\"data row1 col5\" >-0.0105038</td>\n",
       "                        <td id=\"T_eda2a2e8_c3e7_11e9_8f97_802bf9bde18arow1_col6\" class=\"data row1 col6\" >0.07647</td>\n",
       "                        <td id=\"T_eda2a2e8_c3e7_11e9_8f97_802bf9bde18arow1_col7\" class=\"data row1 col7\" >0.0220262</td>\n",
       "                        <td id=\"T_eda2a2e8_c3e7_11e9_8f97_802bf9bde18arow1_col8\" class=\"data row1 col8\" >0.234937</td>\n",
       "                        <td id=\"T_eda2a2e8_c3e7_11e9_8f97_802bf9bde18arow1_col9\" class=\"data row1 col9\" >-0.260987</td>\n",
       "                        <td id=\"T_eda2a2e8_c3e7_11e9_8f97_802bf9bde18arow1_col10\" class=\"data row1 col10\" >-0.202288</td>\n",
       "                        <td id=\"T_eda2a2e8_c3e7_11e9_8f97_802bf9bde18arow1_col11\" class=\"data row1 col11\" >-0.390558</td>\n",
       "            </tr>\n",
       "            <tr>\n",
       "                        <th id=\"T_eda2a2e8_c3e7_11e9_8f97_802bf9bde18alevel0_row2\" class=\"row_heading level0 row2\" >citric acid</th>\n",
       "                        <td id=\"T_eda2a2e8_c3e7_11e9_8f97_802bf9bde18arow2_col0\" class=\"data row2 col0\" >0.671703</td>\n",
       "                        <td id=\"T_eda2a2e8_c3e7_11e9_8f97_802bf9bde18arow2_col1\" class=\"data row2 col1\" >-0.552496</td>\n",
       "                        <td id=\"T_eda2a2e8_c3e7_11e9_8f97_802bf9bde18arow2_col2\" class=\"data row2 col2\" >1</td>\n",
       "                        <td id=\"T_eda2a2e8_c3e7_11e9_8f97_802bf9bde18arow2_col3\" class=\"data row2 col3\" >0.143577</td>\n",
       "                        <td id=\"T_eda2a2e8_c3e7_11e9_8f97_802bf9bde18arow2_col4\" class=\"data row2 col4\" >0.203823</td>\n",
       "                        <td id=\"T_eda2a2e8_c3e7_11e9_8f97_802bf9bde18arow2_col5\" class=\"data row2 col5\" >-0.0609781</td>\n",
       "                        <td id=\"T_eda2a2e8_c3e7_11e9_8f97_802bf9bde18arow2_col6\" class=\"data row2 col6\" >0.035533</td>\n",
       "                        <td id=\"T_eda2a2e8_c3e7_11e9_8f97_802bf9bde18arow2_col7\" class=\"data row2 col7\" >0.364947</td>\n",
       "                        <td id=\"T_eda2a2e8_c3e7_11e9_8f97_802bf9bde18arow2_col8\" class=\"data row2 col8\" >-0.541904</td>\n",
       "                        <td id=\"T_eda2a2e8_c3e7_11e9_8f97_802bf9bde18arow2_col9\" class=\"data row2 col9\" >0.31277</td>\n",
       "                        <td id=\"T_eda2a2e8_c3e7_11e9_8f97_802bf9bde18arow2_col10\" class=\"data row2 col10\" >0.109903</td>\n",
       "                        <td id=\"T_eda2a2e8_c3e7_11e9_8f97_802bf9bde18arow2_col11\" class=\"data row2 col11\" >0.226373</td>\n",
       "            </tr>\n",
       "            <tr>\n",
       "                        <th id=\"T_eda2a2e8_c3e7_11e9_8f97_802bf9bde18alevel0_row3\" class=\"row_heading level0 row3\" >residual sugar</th>\n",
       "                        <td id=\"T_eda2a2e8_c3e7_11e9_8f97_802bf9bde18arow3_col0\" class=\"data row3 col0\" >0.114777</td>\n",
       "                        <td id=\"T_eda2a2e8_c3e7_11e9_8f97_802bf9bde18arow3_col1\" class=\"data row3 col1\" >0.00191788</td>\n",
       "                        <td id=\"T_eda2a2e8_c3e7_11e9_8f97_802bf9bde18arow3_col2\" class=\"data row3 col2\" >0.143577</td>\n",
       "                        <td id=\"T_eda2a2e8_c3e7_11e9_8f97_802bf9bde18arow3_col3\" class=\"data row3 col3\" >1</td>\n",
       "                        <td id=\"T_eda2a2e8_c3e7_11e9_8f97_802bf9bde18arow3_col4\" class=\"data row3 col4\" >0.0556095</td>\n",
       "                        <td id=\"T_eda2a2e8_c3e7_11e9_8f97_802bf9bde18arow3_col5\" class=\"data row3 col5\" >0.187049</td>\n",
       "                        <td id=\"T_eda2a2e8_c3e7_11e9_8f97_802bf9bde18arow3_col6\" class=\"data row3 col6\" >0.203028</td>\n",
       "                        <td id=\"T_eda2a2e8_c3e7_11e9_8f97_802bf9bde18arow3_col7\" class=\"data row3 col7\" >0.355283</td>\n",
       "                        <td id=\"T_eda2a2e8_c3e7_11e9_8f97_802bf9bde18arow3_col8\" class=\"data row3 col8\" >-0.0856524</td>\n",
       "                        <td id=\"T_eda2a2e8_c3e7_11e9_8f97_802bf9bde18arow3_col9\" class=\"data row3 col9\" >0.00552712</td>\n",
       "                        <td id=\"T_eda2a2e8_c3e7_11e9_8f97_802bf9bde18arow3_col10\" class=\"data row3 col10\" >0.0420754</td>\n",
       "                        <td id=\"T_eda2a2e8_c3e7_11e9_8f97_802bf9bde18arow3_col11\" class=\"data row3 col11\" >0.0137316</td>\n",
       "            </tr>\n",
       "            <tr>\n",
       "                        <th id=\"T_eda2a2e8_c3e7_11e9_8f97_802bf9bde18alevel0_row4\" class=\"row_heading level0 row4\" >chlorides</th>\n",
       "                        <td id=\"T_eda2a2e8_c3e7_11e9_8f97_802bf9bde18arow4_col0\" class=\"data row4 col0\" >0.0937052</td>\n",
       "                        <td id=\"T_eda2a2e8_c3e7_11e9_8f97_802bf9bde18arow4_col1\" class=\"data row4 col1\" >0.0612978</td>\n",
       "                        <td id=\"T_eda2a2e8_c3e7_11e9_8f97_802bf9bde18arow4_col2\" class=\"data row4 col2\" >0.203823</td>\n",
       "                        <td id=\"T_eda2a2e8_c3e7_11e9_8f97_802bf9bde18arow4_col3\" class=\"data row4 col3\" >0.0556095</td>\n",
       "                        <td id=\"T_eda2a2e8_c3e7_11e9_8f97_802bf9bde18arow4_col4\" class=\"data row4 col4\" >1</td>\n",
       "                        <td id=\"T_eda2a2e8_c3e7_11e9_8f97_802bf9bde18arow4_col5\" class=\"data row4 col5\" >0.00556215</td>\n",
       "                        <td id=\"T_eda2a2e8_c3e7_11e9_8f97_802bf9bde18arow4_col6\" class=\"data row4 col6\" >0.0474005</td>\n",
       "                        <td id=\"T_eda2a2e8_c3e7_11e9_8f97_802bf9bde18arow4_col7\" class=\"data row4 col7\" >0.200632</td>\n",
       "                        <td id=\"T_eda2a2e8_c3e7_11e9_8f97_802bf9bde18arow4_col8\" class=\"data row4 col8\" >-0.265026</td>\n",
       "                        <td id=\"T_eda2a2e8_c3e7_11e9_8f97_802bf9bde18arow4_col9\" class=\"data row4 col9\" >0.37126</td>\n",
       "                        <td id=\"T_eda2a2e8_c3e7_11e9_8f97_802bf9bde18arow4_col10\" class=\"data row4 col10\" >-0.221141</td>\n",
       "                        <td id=\"T_eda2a2e8_c3e7_11e9_8f97_802bf9bde18arow4_col11\" class=\"data row4 col11\" >-0.128907</td>\n",
       "            </tr>\n",
       "            <tr>\n",
       "                        <th id=\"T_eda2a2e8_c3e7_11e9_8f97_802bf9bde18alevel0_row5\" class=\"row_heading level0 row5\" >free sulfur dioxide</th>\n",
       "                        <td id=\"T_eda2a2e8_c3e7_11e9_8f97_802bf9bde18arow5_col0\" class=\"data row5 col0\" >-0.153794</td>\n",
       "                        <td id=\"T_eda2a2e8_c3e7_11e9_8f97_802bf9bde18arow5_col1\" class=\"data row5 col1\" >-0.0105038</td>\n",
       "                        <td id=\"T_eda2a2e8_c3e7_11e9_8f97_802bf9bde18arow5_col2\" class=\"data row5 col2\" >-0.0609781</td>\n",
       "                        <td id=\"T_eda2a2e8_c3e7_11e9_8f97_802bf9bde18arow5_col3\" class=\"data row5 col3\" >0.187049</td>\n",
       "                        <td id=\"T_eda2a2e8_c3e7_11e9_8f97_802bf9bde18arow5_col4\" class=\"data row5 col4\" >0.00556215</td>\n",
       "                        <td id=\"T_eda2a2e8_c3e7_11e9_8f97_802bf9bde18arow5_col5\" class=\"data row5 col5\" >1</td>\n",
       "                        <td id=\"T_eda2a2e8_c3e7_11e9_8f97_802bf9bde18arow5_col6\" class=\"data row5 col6\" >0.667666</td>\n",
       "                        <td id=\"T_eda2a2e8_c3e7_11e9_8f97_802bf9bde18arow5_col7\" class=\"data row5 col7\" >-0.0219458</td>\n",
       "                        <td id=\"T_eda2a2e8_c3e7_11e9_8f97_802bf9bde18arow5_col8\" class=\"data row5 col8\" >0.0703775</td>\n",
       "                        <td id=\"T_eda2a2e8_c3e7_11e9_8f97_802bf9bde18arow5_col9\" class=\"data row5 col9\" >0.0516576</td>\n",
       "                        <td id=\"T_eda2a2e8_c3e7_11e9_8f97_802bf9bde18arow5_col10\" class=\"data row5 col10\" >-0.0694084</td>\n",
       "                        <td id=\"T_eda2a2e8_c3e7_11e9_8f97_802bf9bde18arow5_col11\" class=\"data row5 col11\" >-0.0506561</td>\n",
       "            </tr>\n",
       "            <tr>\n",
       "                        <th id=\"T_eda2a2e8_c3e7_11e9_8f97_802bf9bde18alevel0_row6\" class=\"row_heading level0 row6\" >total sulfur dioxide</th>\n",
       "                        <td id=\"T_eda2a2e8_c3e7_11e9_8f97_802bf9bde18arow6_col0\" class=\"data row6 col0\" >-0.113181</td>\n",
       "                        <td id=\"T_eda2a2e8_c3e7_11e9_8f97_802bf9bde18arow6_col1\" class=\"data row6 col1\" >0.07647</td>\n",
       "                        <td id=\"T_eda2a2e8_c3e7_11e9_8f97_802bf9bde18arow6_col2\" class=\"data row6 col2\" >0.035533</td>\n",
       "                        <td id=\"T_eda2a2e8_c3e7_11e9_8f97_802bf9bde18arow6_col3\" class=\"data row6 col3\" >0.203028</td>\n",
       "                        <td id=\"T_eda2a2e8_c3e7_11e9_8f97_802bf9bde18arow6_col4\" class=\"data row6 col4\" >0.0474005</td>\n",
       "                        <td id=\"T_eda2a2e8_c3e7_11e9_8f97_802bf9bde18arow6_col5\" class=\"data row6 col5\" >0.667666</td>\n",
       "                        <td id=\"T_eda2a2e8_c3e7_11e9_8f97_802bf9bde18arow6_col6\" class=\"data row6 col6\" >1</td>\n",
       "                        <td id=\"T_eda2a2e8_c3e7_11e9_8f97_802bf9bde18arow6_col7\" class=\"data row6 col7\" >0.0712695</td>\n",
       "                        <td id=\"T_eda2a2e8_c3e7_11e9_8f97_802bf9bde18arow6_col8\" class=\"data row6 col8\" >-0.0664946</td>\n",
       "                        <td id=\"T_eda2a2e8_c3e7_11e9_8f97_802bf9bde18arow6_col9\" class=\"data row6 col9\" >0.0429468</td>\n",
       "                        <td id=\"T_eda2a2e8_c3e7_11e9_8f97_802bf9bde18arow6_col10\" class=\"data row6 col10\" >-0.205654</td>\n",
       "                        <td id=\"T_eda2a2e8_c3e7_11e9_8f97_802bf9bde18arow6_col11\" class=\"data row6 col11\" >-0.1851</td>\n",
       "            </tr>\n",
       "            <tr>\n",
       "                        <th id=\"T_eda2a2e8_c3e7_11e9_8f97_802bf9bde18alevel0_row7\" class=\"row_heading level0 row7\" >density</th>\n",
       "                        <td id=\"T_eda2a2e8_c3e7_11e9_8f97_802bf9bde18arow7_col0\" class=\"data row7 col0\" >0.668047</td>\n",
       "                        <td id=\"T_eda2a2e8_c3e7_11e9_8f97_802bf9bde18arow7_col1\" class=\"data row7 col1\" >0.0220262</td>\n",
       "                        <td id=\"T_eda2a2e8_c3e7_11e9_8f97_802bf9bde18arow7_col2\" class=\"data row7 col2\" >0.364947</td>\n",
       "                        <td id=\"T_eda2a2e8_c3e7_11e9_8f97_802bf9bde18arow7_col3\" class=\"data row7 col3\" >0.355283</td>\n",
       "                        <td id=\"T_eda2a2e8_c3e7_11e9_8f97_802bf9bde18arow7_col4\" class=\"data row7 col4\" >0.200632</td>\n",
       "                        <td id=\"T_eda2a2e8_c3e7_11e9_8f97_802bf9bde18arow7_col5\" class=\"data row7 col5\" >-0.0219458</td>\n",
       "                        <td id=\"T_eda2a2e8_c3e7_11e9_8f97_802bf9bde18arow7_col6\" class=\"data row7 col6\" >0.0712695</td>\n",
       "                        <td id=\"T_eda2a2e8_c3e7_11e9_8f97_802bf9bde18arow7_col7\" class=\"data row7 col7\" >1</td>\n",
       "                        <td id=\"T_eda2a2e8_c3e7_11e9_8f97_802bf9bde18arow7_col8\" class=\"data row7 col8\" >-0.341699</td>\n",
       "                        <td id=\"T_eda2a2e8_c3e7_11e9_8f97_802bf9bde18arow7_col9\" class=\"data row7 col9\" >0.148506</td>\n",
       "                        <td id=\"T_eda2a2e8_c3e7_11e9_8f97_802bf9bde18arow7_col10\" class=\"data row7 col10\" >-0.49618</td>\n",
       "                        <td id=\"T_eda2a2e8_c3e7_11e9_8f97_802bf9bde18arow7_col11\" class=\"data row7 col11\" >-0.174919</td>\n",
       "            </tr>\n",
       "            <tr>\n",
       "                        <th id=\"T_eda2a2e8_c3e7_11e9_8f97_802bf9bde18alevel0_row8\" class=\"row_heading level0 row8\" >pH</th>\n",
       "                        <td id=\"T_eda2a2e8_c3e7_11e9_8f97_802bf9bde18arow8_col0\" class=\"data row8 col0\" >-0.682978</td>\n",
       "                        <td id=\"T_eda2a2e8_c3e7_11e9_8f97_802bf9bde18arow8_col1\" class=\"data row8 col1\" >0.234937</td>\n",
       "                        <td id=\"T_eda2a2e8_c3e7_11e9_8f97_802bf9bde18arow8_col2\" class=\"data row8 col2\" >-0.541904</td>\n",
       "                        <td id=\"T_eda2a2e8_c3e7_11e9_8f97_802bf9bde18arow8_col3\" class=\"data row8 col3\" >-0.0856524</td>\n",
       "                        <td id=\"T_eda2a2e8_c3e7_11e9_8f97_802bf9bde18arow8_col4\" class=\"data row8 col4\" >-0.265026</td>\n",
       "                        <td id=\"T_eda2a2e8_c3e7_11e9_8f97_802bf9bde18arow8_col5\" class=\"data row8 col5\" >0.0703775</td>\n",
       "                        <td id=\"T_eda2a2e8_c3e7_11e9_8f97_802bf9bde18arow8_col6\" class=\"data row8 col6\" >-0.0664946</td>\n",
       "                        <td id=\"T_eda2a2e8_c3e7_11e9_8f97_802bf9bde18arow8_col7\" class=\"data row8 col7\" >-0.341699</td>\n",
       "                        <td id=\"T_eda2a2e8_c3e7_11e9_8f97_802bf9bde18arow8_col8\" class=\"data row8 col8\" >1</td>\n",
       "                        <td id=\"T_eda2a2e8_c3e7_11e9_8f97_802bf9bde18arow8_col9\" class=\"data row8 col9\" >-0.196648</td>\n",
       "                        <td id=\"T_eda2a2e8_c3e7_11e9_8f97_802bf9bde18arow8_col10\" class=\"data row8 col10\" >0.205633</td>\n",
       "                        <td id=\"T_eda2a2e8_c3e7_11e9_8f97_802bf9bde18arow8_col11\" class=\"data row8 col11\" >-0.0577314</td>\n",
       "            </tr>\n",
       "            <tr>\n",
       "                        <th id=\"T_eda2a2e8_c3e7_11e9_8f97_802bf9bde18alevel0_row9\" class=\"row_heading level0 row9\" >sulphates</th>\n",
       "                        <td id=\"T_eda2a2e8_c3e7_11e9_8f97_802bf9bde18arow9_col0\" class=\"data row9 col0\" >0.183006</td>\n",
       "                        <td id=\"T_eda2a2e8_c3e7_11e9_8f97_802bf9bde18arow9_col1\" class=\"data row9 col1\" >-0.260987</td>\n",
       "                        <td id=\"T_eda2a2e8_c3e7_11e9_8f97_802bf9bde18arow9_col2\" class=\"data row9 col2\" >0.31277</td>\n",
       "                        <td id=\"T_eda2a2e8_c3e7_11e9_8f97_802bf9bde18arow9_col3\" class=\"data row9 col3\" >0.00552712</td>\n",
       "                        <td id=\"T_eda2a2e8_c3e7_11e9_8f97_802bf9bde18arow9_col4\" class=\"data row9 col4\" >0.37126</td>\n",
       "                        <td id=\"T_eda2a2e8_c3e7_11e9_8f97_802bf9bde18arow9_col5\" class=\"data row9 col5\" >0.0516576</td>\n",
       "                        <td id=\"T_eda2a2e8_c3e7_11e9_8f97_802bf9bde18arow9_col6\" class=\"data row9 col6\" >0.0429468</td>\n",
       "                        <td id=\"T_eda2a2e8_c3e7_11e9_8f97_802bf9bde18arow9_col7\" class=\"data row9 col7\" >0.148506</td>\n",
       "                        <td id=\"T_eda2a2e8_c3e7_11e9_8f97_802bf9bde18arow9_col8\" class=\"data row9 col8\" >-0.196648</td>\n",
       "                        <td id=\"T_eda2a2e8_c3e7_11e9_8f97_802bf9bde18arow9_col9\" class=\"data row9 col9\" >1</td>\n",
       "                        <td id=\"T_eda2a2e8_c3e7_11e9_8f97_802bf9bde18arow9_col10\" class=\"data row9 col10\" >0.0935948</td>\n",
       "                        <td id=\"T_eda2a2e8_c3e7_11e9_8f97_802bf9bde18arow9_col11\" class=\"data row9 col11\" >0.251397</td>\n",
       "            </tr>\n",
       "            <tr>\n",
       "                        <th id=\"T_eda2a2e8_c3e7_11e9_8f97_802bf9bde18alevel0_row10\" class=\"row_heading level0 row10\" >alcohol</th>\n",
       "                        <td id=\"T_eda2a2e8_c3e7_11e9_8f97_802bf9bde18arow10_col0\" class=\"data row10 col0\" >-0.0616683</td>\n",
       "                        <td id=\"T_eda2a2e8_c3e7_11e9_8f97_802bf9bde18arow10_col1\" class=\"data row10 col1\" >-0.202288</td>\n",
       "                        <td id=\"T_eda2a2e8_c3e7_11e9_8f97_802bf9bde18arow10_col2\" class=\"data row10 col2\" >0.109903</td>\n",
       "                        <td id=\"T_eda2a2e8_c3e7_11e9_8f97_802bf9bde18arow10_col3\" class=\"data row10 col3\" >0.0420754</td>\n",
       "                        <td id=\"T_eda2a2e8_c3e7_11e9_8f97_802bf9bde18arow10_col4\" class=\"data row10 col4\" >-0.221141</td>\n",
       "                        <td id=\"T_eda2a2e8_c3e7_11e9_8f97_802bf9bde18arow10_col5\" class=\"data row10 col5\" >-0.0694084</td>\n",
       "                        <td id=\"T_eda2a2e8_c3e7_11e9_8f97_802bf9bde18arow10_col6\" class=\"data row10 col6\" >-0.205654</td>\n",
       "                        <td id=\"T_eda2a2e8_c3e7_11e9_8f97_802bf9bde18arow10_col7\" class=\"data row10 col7\" >-0.49618</td>\n",
       "                        <td id=\"T_eda2a2e8_c3e7_11e9_8f97_802bf9bde18arow10_col8\" class=\"data row10 col8\" >0.205633</td>\n",
       "                        <td id=\"T_eda2a2e8_c3e7_11e9_8f97_802bf9bde18arow10_col9\" class=\"data row10 col9\" >0.0935948</td>\n",
       "                        <td id=\"T_eda2a2e8_c3e7_11e9_8f97_802bf9bde18arow10_col10\" class=\"data row10 col10\" >1</td>\n",
       "                        <td id=\"T_eda2a2e8_c3e7_11e9_8f97_802bf9bde18arow10_col11\" class=\"data row10 col11\" >0.476166</td>\n",
       "            </tr>\n",
       "            <tr>\n",
       "                        <th id=\"T_eda2a2e8_c3e7_11e9_8f97_802bf9bde18alevel0_row11\" class=\"row_heading level0 row11\" >quality</th>\n",
       "                        <td id=\"T_eda2a2e8_c3e7_11e9_8f97_802bf9bde18arow11_col0\" class=\"data row11 col0\" >0.124052</td>\n",
       "                        <td id=\"T_eda2a2e8_c3e7_11e9_8f97_802bf9bde18arow11_col1\" class=\"data row11 col1\" >-0.390558</td>\n",
       "                        <td id=\"T_eda2a2e8_c3e7_11e9_8f97_802bf9bde18arow11_col2\" class=\"data row11 col2\" >0.226373</td>\n",
       "                        <td id=\"T_eda2a2e8_c3e7_11e9_8f97_802bf9bde18arow11_col3\" class=\"data row11 col3\" >0.0137316</td>\n",
       "                        <td id=\"T_eda2a2e8_c3e7_11e9_8f97_802bf9bde18arow11_col4\" class=\"data row11 col4\" >-0.128907</td>\n",
       "                        <td id=\"T_eda2a2e8_c3e7_11e9_8f97_802bf9bde18arow11_col5\" class=\"data row11 col5\" >-0.0506561</td>\n",
       "                        <td id=\"T_eda2a2e8_c3e7_11e9_8f97_802bf9bde18arow11_col6\" class=\"data row11 col6\" >-0.1851</td>\n",
       "                        <td id=\"T_eda2a2e8_c3e7_11e9_8f97_802bf9bde18arow11_col7\" class=\"data row11 col7\" >-0.174919</td>\n",
       "                        <td id=\"T_eda2a2e8_c3e7_11e9_8f97_802bf9bde18arow11_col8\" class=\"data row11 col8\" >-0.0577314</td>\n",
       "                        <td id=\"T_eda2a2e8_c3e7_11e9_8f97_802bf9bde18arow11_col9\" class=\"data row11 col9\" >0.251397</td>\n",
       "                        <td id=\"T_eda2a2e8_c3e7_11e9_8f97_802bf9bde18arow11_col10\" class=\"data row11 col10\" >0.476166</td>\n",
       "                        <td id=\"T_eda2a2e8_c3e7_11e9_8f97_802bf9bde18arow11_col11\" class=\"data row11 col11\" >1</td>\n",
       "            </tr>\n",
       "    </tbody></table>"
      ],
      "text/plain": [
       "<pandas.io.formats.style.Styler at 0x28fba377278>"
      ]
     },
     "execution_count": 9,
     "metadata": {},
     "output_type": "execute_result"
    }
   ],
   "source": [
    "corr = data.corr()\n",
    "corr.style.background_gradient(cmap='coolwarm')"
   ]
  },
  {
   "cell_type": "code",
   "execution_count": 7,
   "metadata": {},
   "outputs": [
    {
     "data": {
      "text/plain": [
       "5    681\n",
       "6    638\n",
       "7    199\n",
       "4     53\n",
       "8     18\n",
       "3     10\n",
       "Name: quality, dtype: int64"
      ]
     },
     "execution_count": 7,
     "metadata": {},
     "output_type": "execute_result"
    }
   ],
   "source": [
    "data['quality'].value_counts()"
   ]
  },
  {
   "cell_type": "code",
   "execution_count": 8,
   "metadata": {},
   "outputs": [
    {
     "data": {
      "text/plain": [
       "<matplotlib.axes._subplots.AxesSubplot at 0x28fba377dd8>"
      ]
     },
     "execution_count": 8,
     "metadata": {},
     "output_type": "execute_result"
    },
    {
     "data": {
      "image/png": "[encoded data removed]",
      "text/plain": [
       "<Figure size 432x288 with 1 Axes>"
      ]
     },
     "metadata": {
      "needs_background": "light"
     },
     "output_type": "display_data"
    }
   ],
   "source": [
    "sns.countplot(data['quality'])"
   ]
  },
  {
   "cell_type": "markdown",
   "metadata": {},
   "source": [
    "###### When we plot the count of quality in the data. We observe imbalance in Labels "
   ]
  },
  {
   "cell_type": "code",
   "execution_count": 18,
   "metadata": {},
   "outputs": [
    {
     "name": "stderr",
     "output_type": "stream",
     "text": [
      "G:\\Anaconda\\lib\\site-packages\\ipykernel_launcher.py:1: DeprecationWarning: \n",
      ".ix is deprecated. Please use\n",
      ".loc for label based indexing or\n",
      ".iloc for positional indexing\n",
      "\n",
      "See the documentation here:\n",
      "http://pandas.pydata.org/pandas-docs/stable/indexing.html#ix-indexer-is-deprecated\n",
      "  \"\"\"Entry point for launching an IPython kernel.\n",
      "G:\\Anaconda\\lib\\site-packages\\ipykernel_launcher.py:2: DeprecationWarning: \n",
      ".ix is deprecated. Please use\n",
      ".loc for label based indexing or\n",
      ".iloc for positional indexing\n",
      "\n",
      "See the documentation here:\n",
      "http://pandas.pydata.org/pandas-docs/stable/indexing.html#ix-indexer-is-deprecated\n",
      "  \n"
     ]
    }
   ],
   "source": [
    "# Features and Label split\n",
    "X = np.array(data.ix[:, data.columns != 'quality']) \n",
    "y = np.array(data.ix[:, data.columns == 'quality'])"
   ]
  },
  {
   "cell_type": "code",
   "execution_count": 19,
   "metadata": {},
   "outputs": [],
   "source": [
    "X_train, x_test, Y_train, y_test = train_test_split(X, y, test_size=0.25, random_state=42) # test train split"
   ]
  },
  {
   "cell_type": "code",
   "execution_count": 107,
   "metadata": {},
   "outputs": [
    {
     "name": "stdout",
     "output_type": "stream",
     "text": [
      "Number of samples in X_train dataset:  (1199, 11)\n",
      "Number of samples in y_train dataset:  (1199, 1)\n",
      "Number of samples in X_test dataset:  (400, 11)\n",
      "Number of samples in y_test dataset:  (400, 1)\n"
     ]
    }
   ],
   "source": [
    "print(\"Number of samples in X_train dataset: \", X_train.shape)\n",
    "print(\"Number of samples in y_train dataset: \", Y_train.shape)\n",
    "print(\"Number of samples in X_test dataset: \", x_test.shape)\n",
    "print(\"Number of samples in y_test dataset: \", y_test.shape)"
   ]
  },
  {
   "cell_type": "code",
   "execution_count": 108,
   "metadata": {},
   "outputs": [
    {
     "name": "stdout",
     "output_type": "stream",
     "text": [
      "Before OverSampling, counts of quality 3 : [9]\n",
      "Before OverSampling, counts of quality 4 : [40]\n",
      "Before OverSampling, counts of quality 5 : [517]\n",
      "Before OverSampling, counts of quality 6 : [469]\n",
      "Before OverSampling, counts of quality 7 : [151]\n",
      "Before OverSampling, counts of quality 8 : [13]\n"
     ]
    }
   ],
   "source": [
    "for i in range(10):\n",
    "    counts = sum(Y_train==i)\n",
    "    if counts != 0:\n",
    "        print(\"Before OverSampling, counts of quality \"+ str(i) + \" : {}\".format(counts))\n",
    "    else:\n",
    "        continue"
   ]
  },
  {
   "cell_type": "markdown",
   "metadata": {},
   "source": [
    "#### To fix class imbalance we use SMOTE (Synthetic Minority Oversampling Technique).\n",
    "#### This is done to improve model training. "
   ]
  },
  {
   "cell_type": "code",
   "execution_count": 109,
   "metadata": {},
   "outputs": [],
   "source": [
    "sm = SMOTE(random_state=2) \n",
    "X_train_res, y_train_res = sm.fit_sample(X_train, Y_train.ravel())"
   ]
  },
  {
   "cell_type": "markdown",
   "metadata": {},
   "source": [
    "###### After Oversampling we find the number of class instances to be equal."
   ]
  },
  {
   "cell_type": "code",
   "execution_count": 110,
   "metadata": {},
   "outputs": [
    {
     "name": "stdout",
     "output_type": "stream",
     "text": [
      "After OverSampling, counts of quality 3 : 517\n",
      "After OverSampling, counts of quality 4 : 517\n",
      "After OverSampling, counts of quality 5 : 517\n",
      "After OverSampling, counts of quality 6 : 517\n",
      "After OverSampling, counts of quality 7 : 517\n",
      "After OverSampling, counts of quality 8 : 517\n"
     ]
    }
   ],
   "source": [
    "for i in range(10):\n",
    "    counts = sum(y_train_res==i)\n",
    "    if counts != 0:\n",
    "        print(\"After OverSampling, counts of quality \"+ str(i) + \" : {}\".format(counts))\n",
    "    else:\n",
    "        continue"
   ]
  },
  {
   "cell_type": "markdown",
   "metadata": {},
   "source": [
    "## XGBoost Classification"
   ]
  },
  {
   "cell_type": "code",
   "execution_count": 113,
   "metadata": {},
   "outputs": [],
   "source": [
    "def XGB_param_selection(X, y, nfolds):\n",
    "    learning_rate = [0.01, 0.1, 1]\n",
    "    nos = np.linspace(1, 50, num=50)\n",
    "    depth = np.linspace(1, 20, num=20)\n",
    "    numbers = [ int(x) for x in nos ]\n",
    "    m_d = [ int(x) for x in depth ]\n",
    "    param_grid = {'n_estimators': numbers,'max_depth':m_d,'learning_rate':learning_rate}\n",
    "    # Grid Search to find best parameters for the model\n",
    "    # from here : https://scikit-learn.org/stable/modules/generated/sklearn.model_selection.GridSearchCV.html\n",
    "    grid_search = GridSearchCV(xgb.XGBClassifier(subsample=0.5), param_grid, cv=nfolds)\n",
    "    grid_search.fit(X, y)\n",
    "    grid_search.best_params_\n",
    "    return grid_search.best_params_"
   ]
  },
  {
   "cell_type": "code",
   "execution_count": 114,
   "metadata": {},
   "outputs": [
    {
     "name": "stdout",
     "output_type": "stream",
     "text": [
      "{'learning_rate': 0.1, 'max_depth': 10, 'n_estimators': 49}\n"
     ]
    }
   ],
   "source": [
    "print(XGB_param_selection(X_train_res,y_train_res,3))"
   ]
  },
  {
   "cell_type": "code",
   "execution_count": 115,
   "metadata": {},
   "outputs": [
    {
     "data": {
      "text/plain": [
       "XGBClassifier(base_score=0.5, booster='gbtree', colsample_bylevel=1,\n",
       "              colsample_bynode=1, colsample_bytree=1, gamma=0,\n",
       "              learning_rate=0.1, max_delta_step=0, max_depth=10,\n",
       "              min_child_weight=1, missing=None, n_estimators=49, n_jobs=1,\n",
       "              nthread=None, objective='multi:softprob', random_state=0,\n",
       "              reg_alpha=0, reg_lambda=1, scale_pos_weight=1, seed=None,\n",
       "              silent=None, subsample=0.5, verbosity=1)"
      ]
     },
     "execution_count": 115,
     "metadata": {},
     "output_type": "execute_result"
    }
   ],
   "source": [
    "clf = xgb.XGBClassifier(n_estimators=49, max_depth=10, learning_rate=0.1, subsample=0.5)\n",
    "clf.fit(X_train_res, y_train_res)"
   ]
  },
  {
   "cell_type": "code",
   "execution_count": 117,
   "metadata": {},
   "outputs": [
    {
     "name": "stdout",
     "output_type": "stream",
     "text": [
      "0.6275\n"
     ]
    }
   ],
   "source": [
    "predicted = clf.predict(x_test)\n",
    "\n",
    "print(accuracy_score(y_test, predicted))"
   ]
  },
  {
   "cell_type": "code",
   "execution_count": 118,
   "metadata": {},
   "outputs": [
    {
     "name": "stdout",
     "output_type": "stream",
     "text": [
      "              precision    recall  f1-score   support\n",
      "\n",
      "           3       0.00      0.00      0.00         1\n",
      "           4       0.13      0.23      0.17        13\n",
      "           5       0.73      0.66      0.70       164\n",
      "           6       0.68      0.62      0.65       169\n",
      "           7       0.55      0.71      0.62        48\n",
      "           8       0.12      0.20      0.15         5\n",
      "\n",
      "    accuracy                           0.63       400\n",
      "   macro avg       0.37      0.40      0.38       400\n",
      "weighted avg       0.66      0.63      0.64       400\n",
      "\n"
     ]
    }
   ],
   "source": [
    "print(classification_report(y_test, predicted))"
   ]
  },
  {
   "cell_type": "markdown",
   "metadata": {},
   "source": [
    "### Support Vector Classifier"
   ]
  },
  {
   "cell_type": "code",
   "execution_count": 119,
   "metadata": {},
   "outputs": [],
   "source": [
    "from sklearn.svm import SVC"
   ]
  },
  {
   "cell_type": "code",
   "execution_count": 121,
   "metadata": {},
   "outputs": [],
   "source": [
    "param = {\n",
    "    'C': [0.1,0.8,0.9,1,1.1,1.2,1.3,1.4],\n",
    "    'kernel':['linear', 'rbf'],\n",
    "    'gamma' :[0.1,0.8,0.9,1,1.1,1.2,1.3,1.4]\n",
    "}\n",
    "svc = SVC()\n",
    "grid_svc = GridSearchCV(svc, param_grid=param, scoring='accuracy', cv=10)"
   ]
  },
  {
   "cell_type": "code",
   "execution_count": 124,
   "metadata": {},
   "outputs": [
    {
     "name": "stderr",
     "output_type": "stream",
     "text": [
      "G:\\Anaconda\\lib\\site-packages\\sklearn\\model_selection\\_search.py:814: DeprecationWarning: The default of the `iid` parameter will change from True to False in version 0.22 and will be removed in 0.24. This will change numeric results when test-set sizes are unequal.\n",
      "  DeprecationWarning)\n"
     ]
    },
    {
     "name": "stdout",
     "output_type": "stream",
     "text": [
      "{'C': 1.3, 'gamma': 0.8, 'kernel': 'rbf'}\n"
     ]
    }
   ],
   "source": [
    "grid_svc.fit(X_train_res, y_train_res)\n",
    "print(grid_svc.best_params_)"
   ]
  },
  {
   "cell_type": "code",
   "execution_count": 125,
   "metadata": {},
   "outputs": [
    {
     "name": "stdout",
     "output_type": "stream",
     "text": [
      "              precision    recall  f1-score   support\n",
      "\n",
      "           3       0.00      0.00      0.00         1\n",
      "           4       0.12      0.08      0.10        13\n",
      "           5       0.52      0.80      0.63       164\n",
      "           6       0.62      0.40      0.49       169\n",
      "           7       0.76      0.40      0.52        48\n",
      "           8       0.00      0.00      0.00         5\n",
      "\n",
      "    accuracy                           0.55       400\n",
      "   macro avg       0.34      0.28      0.29       400\n",
      "weighted avg       0.57      0.55      0.53       400\n",
      "\n"
     ]
    }
   ],
   "source": [
    "svc2 = SVC(C = 1.2, gamma =  0.8, kernel= 'rbf')\n",
    "svc2.fit(X_train_res, y_train_res)\n",
    "pred_svc2 = svc2.predict(x_test)\n",
    "print(classification_report(y_test, pred_svc2))"
   ]
  },
  {
   "cell_type": "markdown",
   "metadata": {},
   "source": [
    "### Neural Networks "
   ]
  },
  {
   "cell_type": "code",
   "execution_count": 126,
   "metadata": {},
   "outputs": [],
   "source": [
    "from sklearn import preprocessing"
   ]
  },
  {
   "cell_type": "code",
   "execution_count": 127,
   "metadata": {},
   "outputs": [],
   "source": [
    "X = data.drop('quality', axis = 1)\n",
    "y = data['quality']"
   ]
  },
  {
   "cell_type": "code",
   "execution_count": 128,
   "metadata": {},
   "outputs": [],
   "source": [
    "normalized_X=(X-X.mean())/X.std()"
   ]
  },
  {
   "cell_type": "code",
   "execution_count": 129,
   "metadata": {},
   "outputs": [
    {
     "data": {
      "text/html": [
       "<div>\n",
       "<style scoped>\n",
       "    .dataframe tbody tr th:only-of-type {\n",
       "        vertical-align: middle;\n",
       "    }\n",
       "\n",
       "    .dataframe tbody tr th {\n",
       "        vertical-align: top;\n",
       "    }\n",
       "\n",
       "    .dataframe thead th {\n",
       "        text-align: right;\n",
       "    }\n",
       "</style>\n",
       "<table border=\"1\" class=\"dataframe\">\n",
       "  <thead>\n",
       "    <tr style=\"text-align: right;\">\n",
       "      <th></th>\n",
       "      <th>fixed acidity</th>\n",
       "      <th>volatile acidity</th>\n",
       "      <th>citric acid</th>\n",
       "      <th>residual sugar</th>\n",
       "      <th>chlorides</th>\n",
       "      <th>free sulfur dioxide</th>\n",
       "      <th>total sulfur dioxide</th>\n",
       "      <th>density</th>\n",
       "      <th>pH</th>\n",
       "      <th>sulphates</th>\n",
       "      <th>alcohol</th>\n",
       "    </tr>\n",
       "  </thead>\n",
       "  <tbody>\n",
       "    <tr>\n",
       "      <th>0</th>\n",
       "      <td>-0.528194</td>\n",
       "      <td>0.961576</td>\n",
       "      <td>-1.391037</td>\n",
       "      <td>-0.453077</td>\n",
       "      <td>-0.243630</td>\n",
       "      <td>-0.466047</td>\n",
       "      <td>-0.379014</td>\n",
       "      <td>0.558100</td>\n",
       "      <td>1.288240</td>\n",
       "      <td>-0.579025</td>\n",
       "      <td>-0.959946</td>\n",
       "    </tr>\n",
       "    <tr>\n",
       "      <th>1</th>\n",
       "      <td>-0.298454</td>\n",
       "      <td>1.966827</td>\n",
       "      <td>-1.391037</td>\n",
       "      <td>0.043403</td>\n",
       "      <td>0.223805</td>\n",
       "      <td>0.872365</td>\n",
       "      <td>0.624168</td>\n",
       "      <td>0.028252</td>\n",
       "      <td>-0.719708</td>\n",
       "      <td>0.128910</td>\n",
       "      <td>-0.584594</td>\n",
       "    </tr>\n",
       "    <tr>\n",
       "      <th>2</th>\n",
       "      <td>-0.298454</td>\n",
       "      <td>1.296660</td>\n",
       "      <td>-1.185699</td>\n",
       "      <td>-0.169374</td>\n",
       "      <td>0.096323</td>\n",
       "      <td>-0.083643</td>\n",
       "      <td>0.228975</td>\n",
       "      <td>0.134222</td>\n",
       "      <td>-0.331073</td>\n",
       "      <td>-0.048074</td>\n",
       "      <td>-0.584594</td>\n",
       "    </tr>\n",
       "    <tr>\n",
       "      <th>3</th>\n",
       "      <td>1.654339</td>\n",
       "      <td>-1.384011</td>\n",
       "      <td>1.483689</td>\n",
       "      <td>-0.453077</td>\n",
       "      <td>-0.264878</td>\n",
       "      <td>0.107558</td>\n",
       "      <td>0.411372</td>\n",
       "      <td>0.664069</td>\n",
       "      <td>-0.978798</td>\n",
       "      <td>-0.461036</td>\n",
       "      <td>-0.584594</td>\n",
       "    </tr>\n",
       "    <tr>\n",
       "      <th>4</th>\n",
       "      <td>-0.528194</td>\n",
       "      <td>0.961576</td>\n",
       "      <td>-1.391037</td>\n",
       "      <td>-0.453077</td>\n",
       "      <td>-0.243630</td>\n",
       "      <td>-0.466047</td>\n",
       "      <td>-0.379014</td>\n",
       "      <td>0.558100</td>\n",
       "      <td>1.288240</td>\n",
       "      <td>-0.579025</td>\n",
       "      <td>-0.959946</td>\n",
       "    </tr>\n",
       "  </tbody>\n",
       "</table>\n",
       "</div>"
      ],
      "text/plain": [
       "   fixed acidity  volatile acidity  citric acid  residual sugar  chlorides  \\\n",
       "0      -0.528194          0.961576    -1.391037       -0.453077  -0.243630   \n",
       "1      -0.298454          1.966827    -1.391037        0.043403   0.223805   \n",
       "2      -0.298454          1.296660    -1.185699       -0.169374   0.096323   \n",
       "3       1.654339         -1.384011     1.483689       -0.453077  -0.264878   \n",
       "4      -0.528194          0.961576    -1.391037       -0.453077  -0.243630   \n",
       "\n",
       "   free sulfur dioxide  total sulfur dioxide   density        pH  sulphates  \\\n",
       "0            -0.466047             -0.379014  0.558100  1.288240  -0.579025   \n",
       "1             0.872365              0.624168  0.028252 -0.719708   0.128910   \n",
       "2            -0.083643              0.228975  0.134222 -0.331073  -0.048074   \n",
       "3             0.107558              0.411372  0.664069 -0.978798  -0.461036   \n",
       "4            -0.466047             -0.379014  0.558100  1.288240  -0.579025   \n",
       "\n",
       "    alcohol  \n",
       "0 -0.959946  \n",
       "1 -0.584594  \n",
       "2 -0.584594  \n",
       "3 -0.584594  \n",
       "4 -0.959946  "
      ]
     },
     "execution_count": 129,
     "metadata": {},
     "output_type": "execute_result"
    }
   ],
   "source": [
    "normalized_X.head()"
   ]
  },
  {
   "cell_type": "code",
   "execution_count": 132,
   "metadata": {},
   "outputs": [],
   "source": [
    "y = pd.get_dummies(y)"
   ]
  },
  {
   "cell_type": "code",
   "execution_count": 133,
   "metadata": {},
   "outputs": [
    {
     "name": "stdout",
     "output_type": "stream",
     "text": [
      "      3  4  5  6  7  8\n",
      "0     0  0  1  0  0  0\n",
      "1     0  0  1  0  0  0\n",
      "2     0  0  1  0  0  0\n",
      "3     0  0  0  1  0  0\n",
      "4     0  0  1  0  0  0\n",
      "5     0  0  1  0  0  0\n",
      "6     0  0  1  0  0  0\n",
      "7     0  0  0  0  1  0\n",
      "8     0  0  0  0  1  0\n",
      "9     0  0  1  0  0  0\n",
      "10    0  0  1  0  0  0\n",
      "11    0  0  1  0  0  0\n",
      "12    0  0  1  0  0  0\n",
      "13    0  0  1  0  0  0\n",
      "14    0  0  1  0  0  0\n",
      "15    0  0  1  0  0  0\n",
      "16    0  0  0  0  1  0\n",
      "17    0  0  1  0  0  0\n",
      "18    0  1  0  0  0  0\n",
      "19    0  0  0  1  0  0\n",
      "20    0  0  0  1  0  0\n",
      "21    0  0  1  0  0  0\n",
      "22    0  0  1  0  0  0\n",
      "23    0  0  1  0  0  0\n",
      "24    0  0  0  1  0  0\n",
      "25    0  0  1  0  0  0\n",
      "26    0  0  1  0  0  0\n",
      "27    0  0  1  0  0  0\n",
      "28    0  0  1  0  0  0\n",
      "29    0  0  0  1  0  0\n",
      "...  .. .. .. .. .. ..\n",
      "1569  0  0  0  1  0  0\n",
      "1570  0  0  0  1  0  0\n",
      "1571  0  0  0  1  0  0\n",
      "1572  0  0  1  0  0  0\n",
      "1573  0  0  0  1  0  0\n",
      "1574  0  0  0  1  0  0\n",
      "1575  0  0  0  1  0  0\n",
      "1576  0  0  0  1  0  0\n",
      "1577  0  0  0  1  0  0\n",
      "1578  0  0  0  1  0  0\n",
      "1579  0  0  1  0  0  0\n",
      "1580  0  0  0  1  0  0\n",
      "1581  0  0  1  0  0  0\n",
      "1582  0  0  1  0  0  0\n",
      "1583  0  0  1  0  0  0\n",
      "1584  0  0  0  0  1  0\n",
      "1585  0  0  0  1  0  0\n",
      "1586  0  0  0  1  0  0\n",
      "1587  0  0  0  1  0  0\n",
      "1588  0  0  0  1  0  0\n",
      "1589  0  0  1  0  0  0\n",
      "1590  0  0  0  1  0  0\n",
      "1591  0  0  0  1  0  0\n",
      "1592  0  0  0  1  0  0\n",
      "1593  0  0  0  1  0  0\n",
      "1594  0  0  1  0  0  0\n",
      "1595  0  0  0  1  0  0\n",
      "1596  0  0  0  1  0  0\n",
      "1597  0  0  1  0  0  0\n",
      "1598  0  0  0  1  0  0\n",
      "\n",
      "[1599 rows x 6 columns]\n"
     ]
    }
   ],
   "source": [
    "print(y)"
   ]
  },
  {
   "cell_type": "code",
   "execution_count": 134,
   "metadata": {},
   "outputs": [],
   "source": [
    "X_train, x_test, Y_train, y_test = train_test_split(normalized_X, y, test_size=0.25, random_state=42)"
   ]
  },
  {
   "cell_type": "code",
   "execution_count": 138,
   "metadata": {},
   "outputs": [],
   "source": [
    "class RegNN(nn.Module):\n",
    "    def __init__(self):\n",
    "        super(RegNN, self).__init__()\n",
    "        self.l1 = nn.Linear(11,128)\n",
    "        self.l2 = nn.Linear(128,64)\n",
    "        self.l3 = nn.Linear(64,32)\n",
    "        self.l4 = nn.Linear(32,6)\n",
    "        self.drop = nn.Dropout(0.2)\n",
    "    \n",
    "    def forward(self,x):\n",
    "        x = torch.relu(self.l1(x))\n",
    "        x = self.drop(x)\n",
    "        x = torch.relu(self.l2(x))\n",
    "        x = self.drop(x)\n",
    "        x = torch.relu(self.l3(x))\n",
    "        return torch.log_softmax(self.l4(x),dim = 1)\n",
    "model = RegNN()\n",
    "model.cuda()\n",
    "criterion = nn.CrossEntropyLoss()\n",
    "optimiser = torch.optim.Adam(model.parameters(),lr=0.01)"
   ]
  },
  {
   "cell_type": "code",
   "execution_count": 139,
   "metadata": {},
   "outputs": [
    {
     "name": "stdout",
     "output_type": "stream",
     "text": [
      "RegNN(\n",
      "  (l1): Linear(in_features=11, out_features=128, bias=True)\n",
      "  (l2): Linear(in_features=128, out_features=64, bias=True)\n",
      "  (l3): Linear(in_features=64, out_features=32, bias=True)\n",
      "  (l4): Linear(in_features=32, out_features=6, bias=True)\n",
      "  (drop): Dropout(p=0.2)\n",
      ")\n"
     ]
    }
   ],
   "source": [
    "print(model)"
   ]
  },
  {
   "cell_type": "code",
   "execution_count": 144,
   "metadata": {},
   "outputs": [
    {
     "data": {
      "application/vnd.jupyter.widget-view+json": {
       "model_id": "bc8e4ccdb58d4ac8847c42ee9ce61371",
       "version_major": 2,
       "version_minor": 0
      },
      "text/plain": [
       "HBox(children=(IntProgress(value=0, max=15000), HTML(value='')))"
      ]
     },
     "metadata": {},
     "output_type": "display_data"
    },
    {
     "name": "stdout",
     "output_type": "stream",
     "text": [
      "\n"
     ]
    },
    {
     "name": "stderr",
     "output_type": "stream",
     "text": [
      "Exception in thread Thread-16:\n",
      "Traceback (most recent call last):\n",
      "  File \"G:\\Anaconda\\lib\\threading.py\", line 916, in _bootstrap_inner\n",
      "    self.run()\n",
      "  File \"G:\\Anaconda\\lib\\site-packages\\tqdm\\_monitor.py\", line 62, in run\n",
      "    for instance in self.tqdm_cls._instances:\n",
      "  File \"G:\\Anaconda\\lib\\_weakrefset.py\", line 60, in __iter__\n",
      "    for itemref in self.data:\n",
      "RuntimeError: Set changed size during iteration\n",
      "\n"
     ]
    },
    {
     "name": "stdout",
     "output_type": "stream",
     "text": [
      "\n"
     ]
    }
   ],
   "source": [
    "loss_lst = []\n",
    "X_torch = torch.from_numpy(X_train.to_numpy().astype('float32')).cuda()\n",
    "y_torch = torch.from_numpy(Y_train.to_numpy().astype('float32')).cuda()\n",
    "\n",
    "for epoch in tqdm(range(15000)):\n",
    "    optimiser.zero_grad()\n",
    "    y_pred = model(X_torch)\n",
    "#     loss = criterion(y_pred, y_torch)\n",
    "    loss = criterion(y_pred, torch.max(y_torch, 1)[1])\n",
    "    loss_lst.append(loss.data)\n",
    "    \n",
    "    loss.backward()\n",
    "    optimiser.step()"
   ]
  },
  {
   "cell_type": "code",
   "execution_count": 145,
   "metadata": {},
   "outputs": [
    {
     "data": {
      "text/plain": [
       "[<matplotlib.lines.Line2D at 0x28fe79a90f0>]"
      ]
     },
     "execution_count": 145,
     "metadata": {},
     "output_type": "execute_result"
    },
    {
     "data": {
      "image/png": "[encoded data removed]",
      "text/plain": [
       "<Figure size 432x288 with 1 Axes>"
      ]
     },
     "metadata": {},
     "output_type": "display_data"
    }
   ],
   "source": [
    "plt.plot(loss_lst)"
   ]
  },
  {
   "cell_type": "code",
   "execution_count": 146,
   "metadata": {},
   "outputs": [
    {
     "data": {
      "text/plain": [
       "tensor(0.0780, device='cuda:0')"
      ]
     },
     "execution_count": 146,
     "metadata": {},
     "output_type": "execute_result"
    }
   ],
   "source": [
    "loss_lst[-1]"
   ]
  },
  {
   "cell_type": "code",
   "execution_count": 149,
   "metadata": {},
   "outputs": [],
   "source": [
    "X_test_torch = torch.from_numpy(x_test.to_numpy().astype('float32')).cuda()\n",
    "y_test_torch = torch.from_numpy(y_test.to_numpy().astype('float32')).cuda()\n",
    "with torch.no_grad():\n",
    "    model.eval()\n",
    "    y_pred = model(X_test_torch)"
   ]
  },
  {
   "cell_type": "code",
   "execution_count": 153,
   "metadata": {},
   "outputs": [
    {
     "data": {
      "text/plain": [
       "torch.Size([400, 6])"
      ]
     },
     "execution_count": 153,
     "metadata": {},
     "output_type": "execute_result"
    }
   ],
   "source": [
    "ps = torch.exp(y_pred)\n",
    "ps.shape"
   ]
  },
  {
   "cell_type": "code",
   "execution_count": 163,
   "metadata": {},
   "outputs": [
    {
     "name": "stdout",
     "output_type": "stream",
     "text": [
      "tensor([[2],\n",
      "        [2],\n",
      "        [3],\n",
      "        [2],\n",
      "        [3],\n",
      "        [2],\n",
      "        [2],\n",
      "        [2],\n",
      "        [1],\n",
      "        [3]], device='cuda:0')\n"
     ]
    }
   ],
   "source": [
    "top_p, top_class = ps.topk(1, dim = 1)\n",
    "print(top_class[:10,:])"
   ]
  },
  {
   "cell_type": "code",
   "execution_count": 168,
   "metadata": {},
   "outputs": [
    {
     "name": "stdout",
     "output_type": "stream",
     "text": [
      "tensor([[3],\n",
      "        [2],\n",
      "        [3],\n",
      "        [2],\n",
      "        [3],\n",
      "        [2],\n",
      "        [2],\n",
      "        [2],\n",
      "        [2],\n",
      "        [3]], device='cuda:0')\n"
     ]
    }
   ],
   "source": [
    "_, top_class_labels = y_test_torch.topk(1, dim = 1)\n",
    "print(top_class_labels[:10,:])"
   ]
  },
  {
   "cell_type": "code",
   "execution_count": 169,
   "metadata": {},
   "outputs": [
    {
     "name": "stdout",
     "output_type": "stream",
     "text": [
      "torch.Size([400, 1])\n",
      "torch.Size([400, 1])\n"
     ]
    }
   ],
   "source": [
    "print(top_class.shape)\n",
    "print(top_class_labels.shape)"
   ]
  },
  {
   "cell_type": "code",
   "execution_count": 170,
   "metadata": {},
   "outputs": [
    {
     "name": "stdout",
     "output_type": "stream",
     "text": [
      "tensor([[0],\n",
      "        [1],\n",
      "        [1],\n",
      "        [1],\n",
      "        [1],\n",
      "        [1],\n",
      "        [1],\n",
      "        [1],\n",
      "        [0],\n",
      "        [1]], device='cuda:0', dtype=torch.uint8)\n"
     ]
    }
   ],
   "source": [
    "equals = top_class == top_class_labels.view(*top_class.shape)\n",
    "print(equals[:10,:])"
   ]
  },
  {
   "cell_type": "code",
   "execution_count": 171,
   "metadata": {},
   "outputs": [
    {
     "name": "stdout",
     "output_type": "stream",
     "text": [
      "Accuracy is  - 64.74999785423279%\n"
     ]
    }
   ],
   "source": [
    "accuracy = torch.mean(equals.type(torch.FloatTensor))\n",
    "print(f\"Accuracy is  - {accuracy.item() *100}%\")"
   ]
  }
 ],
 "metadata": {
  "kernelspec": {
   "display_name": "Python 3",
   "language": "python",
   "name": "python3"
  },
  "language_info": {
   "codemirror_mode": {
    "name": "ipython",
    "version": 3
   },
   "file_extension": ".py",
   "mimetype": "text/x-python",
   "name": "python",
   "nbconvert_exporter": "python",
   "pygments_lexer": "ipython3",
   "version": "3.6.8"
  }
 },
 "nbformat": 4,
 "nbformat_minor": 2
}
